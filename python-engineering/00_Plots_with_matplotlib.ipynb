{
 "cells": [
  {
   "cell_type": "markdown",
   "metadata": {
    "deletable": true,
    "editable": true
   },
   "source": [
    "<h2 style=\"color: olive\">¿Qué es matplotlib?</h2>\n",
    "\n",
    "Matplotlib es un biblioteca de Python para la generación de graficos de alta calidad. Proporciona múltiples formatos de gráficos.\n",
    "\n",
    "Al igual que Python es software libre y tiene una gran comunidad muy activa que esta continuamente mejorando y agregando nuevas funcionalidades. \n",
    "\n",
    "Tiene una buena documentación y una gran galeria con ejemplos de código que podemos modificar a nuestro antojo. Es una alternativa muy potente a Matlab, gratuita y además nos permite programar con Python.\n",
    "\n",
    "Para utilizar matplotlib tenemos dos opciones fundamentales:\n",
    "- Importar el módulo `matplotlib.pyplot`\n",
    "- Importar el módulo `pyplab` (que incluye funcionalidad conjunta de numpy y matplotlib.pyplot\n"
   ]
  },
  {
   "cell_type": "code",
   "execution_count": null,
   "metadata": {
    "collapsed": true,
    "deletable": true,
    "editable": true
   },
   "outputs": [],
   "source": [
    "# Importamos modulos necesarios\n",
    "import numpy as np\n",
    "import matplotlib.pyplot as plt\n",
    "%matplotlib inline"
   ]
  },
  {
   "cell_type": "markdown",
   "metadata": {
    "deletable": true,
    "editable": true
   },
   "source": [
    "***\n",
    "<h3 style=\"color: navy\">1. Representación de líneas con plot</h3>\n",
    "\n",
    "Plot es la función más importante de matplotlib. Permite representar líneas a partir de arrays o listas con valores de x e y\n",
    "\n",
    ">`plt.plot(x, y, kwargs)`\n",
    "\n",
    ">- **_x, y :_** numpy.arrays (o listas) con los valores de la línea a dibujar\n",
    ">- **_kwargs :_** Establece las opciones de representación de la línea del gráfico\n",
    ">    - **color** or **c**: Color de la línea\n",
    ">    - **linestyle** or **ls**: Estilo de línea\n",
    ">    - **marker**: Marcador\n",
    ">    - **markeredgecolor** or **mec**: Color del borde del marcador\n",
    ">    - **markeredgewidth** or **mew**: Ancho de línea del marcador (en puntos)\n",
    ">    - **markerfacecolor** or **mfc**: Color del marcador\n",
    ">    - **markersize** or **ms**: Tamaño del marcador\n",
    ">    - **alpha**: Transparencia (0.0 - Transparente; 1.0 - Opaco)\n"
   ]
  },
  {
   "cell_type": "markdown",
   "metadata": {
    "deletable": true,
    "editable": true
   },
   "source": [
    "### Colores y estilos de marcadores\n",
    "\n",
    "Matplotlib no solamente acepta como paramétro de color cadenas de texto con los valores de colores más comunes, también acepta tuplas de 3 o 4 valores (r, g, b) o (r, g, b, a), con **valores decimales de 0 a 1.**\n",
    "\n",
    "#### Estilos de marcadores\n",
    "\n",
    "|sym| style              |sym| style              |sym|style                |\n",
    "|---|--------------------|---|--------------------|---|---------------------|\n",
    "| . | Points             | v | Triangles (down)   | + | Plus marker         |\n",
    "| , | Pixels             | ^ | Triangles (up)     | x | X marker            |\n",
    "| o | Circles            | < | Triangles (left)   | D | Diamont             |\n",
    "| s | Squares            | > | Triangles (right)  | d | Thin diamont        |\n",
    "| p | Pentagons          | 1 | Tripods (down)     | _ | Horizontal lines    |\n",
    "| * | Stars              | 2 | Tripods (up)       |   |                     |\n",
    "| h | Hexagons           | 3 | Tripods (left)     |   |                     |\n",
    "| H | Rotated hexagons   | 4 | Tripods (right)    |   |                     |\n",
    "\n",
    "#### Estilos de líneas\n",
    "\n",
    "| Symbol | Style         |\n",
    "|--------|---------------|\n",
    "| -      | solid line    |\n",
    "| --     | dashed line   |\n",
    "| -.     | dash-dot line |\n",
    "| :      | dotted line   |\n",
    "| \"None\" | No line       |\n"
   ]
  },
  {
   "cell_type": "markdown",
   "metadata": {
    "deletable": true,
    "editable": true
   },
   "source": [
    "### Estilos rápidos\n",
    "\n",
    "Es posible establecer estilos rápidos combinando colores y estilos. Así por ejemplo \"ro\" establece marcadores circulares rojos, \"b--\" establece una línea "
   ]
  },
  {
   "cell_type": "code",
   "execution_count": null,
   "metadata": {
    "collapsed": false,
    "deletable": true,
    "editable": true
   },
   "outputs": [],
   "source": [
    "# Genera 100 valores de x espaciados entre 0 y 2pi\n",
    "# Crea valores de y según la función f(x) = sen(x^2)\n",
    "# Representa los valores de x e y con plot\n"
   ]
  },
  {
   "cell_type": "code",
   "execution_count": null,
   "metadata": {
    "collapsed": false,
    "deletable": true,
    "editable": true
   },
   "outputs": [],
   "source": [
    "# Representa la función y = 6x**2 + 3x + 10 entre -50 y 50\n"
   ]
  },
  {
   "cell_type": "markdown",
   "metadata": {
    "deletable": true,
    "editable": true
   },
   "source": [
    "### Representación de más de una línea\n",
    "Para representar más de una línea tenemos dos opciones\n",
    "1. Llamar a la función plot con todos los valores (x1, y1, x2, y2, ..., xn, yn)\n",
    "2. Llamar a la función plot más de una vez"
   ]
  },
  {
   "cell_type": "code",
   "execution_count": null,
   "metadata": {
    "collapsed": false,
    "deletable": true,
    "editable": true
   },
   "outputs": [],
   "source": [
    "# Crea 100 valores espaciados de x entre 0 y 2pi\n",
    "# Crea valores para las funciones \"y = sen(x)\" ; \"y = cos(x)\"\n",
    "# Representa ambas fuciones con una única llamada a plot\n"
   ]
  },
  {
   "cell_type": "code",
   "execution_count": null,
   "metadata": {
    "collapsed": false,
    "deletable": true,
    "editable": true
   },
   "outputs": [],
   "source": [
    "# Repite el gráfico anterior pero llamando dos veces a la función\n"
   ]
  },
  {
   "cell_type": "markdown",
   "metadata": {
    "deletable": true,
    "editable": true
   },
   "source": [
    "### Representación de valores de  y (sin especificar x)\n",
    "\n",
    "Si solamente especificamos un array (o lista) de valores de y, los valores de x serán los índices del array (o lista)"
   ]
  },
  {
   "cell_type": "code",
   "execution_count": null,
   "metadata": {
    "collapsed": false,
    "deletable": true,
    "editable": true
   },
   "outputs": [],
   "source": [
    "# Crea un array con 10 valores consecutivos entre 0 y 9\n",
    "# Eleva los valores al cuadrado y representalos\n"
   ]
  },
  {
   "cell_type": "code",
   "execution_count": null,
   "metadata": {
    "collapsed": false,
    "deletable": true,
    "editable": true
   },
   "outputs": [],
   "source": [
    "# Crea una grafica que represente la función --> y = x^2 entre los valores 1 y 20\n",
    "# Represéntala con una línea azul y puntos verdes\n"
   ]
  },
  {
   "cell_type": "code",
   "execution_count": null,
   "metadata": {
    "collapsed": false,
    "deletable": true,
    "editable": true
   },
   "outputs": [],
   "source": [
    "# Carga los datos del archivo \"data/c_hypsom.txt\"\n",
    "# Es un archivo de texto con dos columnas de datos x e y \n",
    "# Los valores están separados por \";\"\n",
    "# Representa los valores x e y del archivo en un gráfico \n",
    "# Utiliza una línea verde y marcadores de puntos rojos con borde negro\n"
   ]
  },
  {
   "cell_type": "code",
   "execution_count": null,
   "metadata": {
    "collapsed": false,
    "deletable": true,
    "editable": true
   },
   "outputs": [],
   "source": [
    "# Crea 5 líneas que representen las funciones y = 2x + n (siendo n = [0,5,10,15,20])\n",
    "# Representalasn entre 0 y 10\n"
   ]
  },
  {
   "cell_type": "code",
   "execution_count": null,
   "metadata": {
    "collapsed": false,
    "deletable": true,
    "editable": true
   },
   "outputs": [],
   "source": [
    "# Representa el polinómio y = (1/4)*(x+4)*(x+1)*(x-2) entre [-4, 4]\n",
    "# Utiliza una línea roja discontinua y circulos verdes con un borde azul de 0.5 pt\n"
   ]
  },
  {
   "cell_type": "markdown",
   "metadata": {
    "deletable": true,
    "editable": true
   },
   "source": [
    "***\n",
    "<h3 style=\"color: navy\">2. Representación de nubes de puntos con scatter</h3>\n",
    "\n",
    "La función scatter permite plotear nubes de puntos con coordenadas x e y\n",
    "\n",
    "> `plt.scatter(x, y, s=None, c=None, marker=None, cmap=None, alpha=None, linewidths=None, edgecolors=None, kwargs)`\n",
    ">- **_x, y :_** numpy.arrays (o listas) con los valores de los puntos a dibujar\n",
    ">- **_s:_** Número o array con los tamaños de los marcadores\n",
    ">- **_c:_** Número o array con los colores de los marcadores\n",
    ">- **_marker:_** Cadena de texto o array con los símbolos de los marcadores\n",
    ">- **_cmap:_** Rampa de color. Para utilizar una rampa, c debe de ser un array de floats [0, 1]\n",
    ">- **_alpha:_** Número o array con transparencias de los marcadores (0.0 Tranparente, 1.0 Opaco)\n",
    ">- **_linewidths:_** Número o array con los anchos de línea de los bordes de los marcadores\n",
    ">- **_edgecolors:_** Cadena de texto o array los colores de los bordes de los marcadores"
   ]
  },
  {
   "cell_type": "code",
   "execution_count": null,
   "metadata": {
    "collapsed": false,
    "deletable": true,
    "editable": true
   },
   "outputs": [],
   "source": [
    "# Crea un array con 100 datos aleatorios de x e y entre 0 y 1\n",
    "# Representa los datos con scatter\n"
   ]
  },
  {
   "cell_type": "code",
   "execution_count": null,
   "metadata": {
    "collapsed": false,
    "deletable": true,
    "editable": true
   },
   "outputs": [],
   "source": [
    "# Crea una distribución aleatoria de puntos x e y\n",
    "# Representa los puntos con tamaños y colores aleatorios\n"
   ]
  },
  {
   "cell_type": "markdown",
   "metadata": {
    "deletable": true,
    "editable": true
   },
   "source": [
    "***\n",
    "<h3 style=\"color: navy\">3. Representación de gráficos de barras verticales</h3>\n",
    "\n",
    "Esta función realiza un gráfico de barras con rectágulos definidos por  \n",
    "*left -- left + width -- bottom -- bottom + height*\n",
    "\n",
    "> `bar(left, height, width=0.8, bottom= None, args)`\n",
    ">- **_left:_** Array o lista con los extremos izquierdos de las barras\n",
    ">- **_height:_** Array o lista con las alturas de las barras\n",
    ">- **_width:_** Ancho de las barras\n",
    ">- **_bottom:_** Array o lista con las alturas de las bases de las barras\n",
    ">- **_args :_** Opciones de representación: color, tipo línea, ancho línea, etc."
   ]
  },
  {
   "cell_type": "code",
   "execution_count": null,
   "metadata": {
    "collapsed": false,
    "deletable": true,
    "editable": true
   },
   "outputs": [],
   "source": [
    "# Representa los valores del siguiente array en un gráfico de barras\n",
    "values = np.array([5., 25., 50., 20.])\n"
   ]
  },
  {
   "cell_type": "code",
   "execution_count": null,
   "metadata": {
    "collapsed": false,
    "deletable": true,
    "editable": true
   },
   "outputs": [],
   "source": [
    "# Representa los valores pero con el parámetro width = 1\n"
   ]
  },
  {
   "cell_type": "markdown",
   "metadata": {
    "deletable": true,
    "editable": true
   },
   "source": [
    "***\n",
    "<h3 style=\"color: navy\">4. Representación de gráficos de barras horizontales</h3>\n",
    "\n",
    "Esta función realiza un gráfico de barras con rectágulos definidos por  \n",
    "*left -- left + width -- bottom -- bottom + height*\n",
    "\n",
    "> `barh(bottom, width, height=0.8, left=None, args)`\n",
    ">- **_bottom:_** Array o lista con las coordenadas y de las barras\n",
    ">- **_width:_** Array o lista con los anchos de las barras horizontales\n",
    ">- **_height:_** Altura de las de las barras (defecto 0.8)\n",
    ">- **_left:_** Array o lista con las coordenadas x de los extremos izquierdos de las barras\n",
    ">- **_args :_** Opciones de representación: color, tipo línea, ancho línea, etc."
   ]
  },
  {
   "cell_type": "code",
   "execution_count": null,
   "metadata": {
    "collapsed": false,
    "deletable": true,
    "editable": true
   },
   "outputs": [],
   "source": [
    "# Representa los valores del array anterior pero con barras horizontales\n"
   ]
  },
  {
   "cell_type": "code",
   "execution_count": null,
   "metadata": {
    "collapsed": false,
    "deletable": true,
    "editable": true
   },
   "outputs": [],
   "source": [
    "# Representa el siguiente array con un gráfico de barras.\n",
    "# Cada fila representa los valores de alturas para representar con barras\n",
    "data = np.array([[5., 25., 50., 20.],\n",
    "                 [4., 23., 51., 17.],\n",
    "                 [6., 22., 52., 19.]])\n"
   ]
  },
  {
   "cell_type": "code",
   "execution_count": null,
   "metadata": {
    "collapsed": false,
    "deletable": true,
    "editable": true
   },
   "outputs": [],
   "source": [
    "# Representa el siguiente array con un grafico de barras verticales \"apiladas\"\n",
    "data = np.array([[5., 30., 45., 22.],\n",
    "                 [5., 25., 50., 20.],\n",
    "                 [4., 8., 7., 10.]])\n"
   ]
  },
  {
   "cell_type": "markdown",
   "metadata": {
    "deletable": true,
    "editable": true
   },
   "source": [
    "***\n",
    "<h3 style=\"color: navy\">5. Representación de diagramas de tarta</h3>\n",
    "\n",
    "Esta función plotea diagramas de tarta. Tiene muchos parámetros para configurar el gráfico, los puedes explorar consultando su documentación. Algunos de los mas interesantes a destacar:\n",
    "\n",
    "> `pie(x, args)`\n",
    ">- **_explode:_** Lista o array con las distancias para \"sacar\" el quesito. Se da en fracciones del radio.\n",
    ">- **_labels:_** Lista o array de cadena de texto con las etiquetas\n",
    ">- **_labeldistance:_** Lista o array con las distancias a las que colocar cada etiqueta (distancias radiales)\n",
    ">- **_autopct:_** Cadena para formatear los \"quesos\" con su valor numérico\n",
    ">- **_shadow:_** Boleano que especifica si mostrar sombra o no"
   ]
  },
  {
   "cell_type": "code",
   "execution_count": null,
   "metadata": {
    "collapsed": false,
    "deletable": true,
    "editable": true
   },
   "outputs": [],
   "source": [
    "# Crea un gráfico de tarta simple a partir del array \"visitas\"\n",
    "visitas = np.array([22.1, 20.3, 19.9, 17.9, 19.8])\n"
   ]
  },
  {
   "cell_type": "code",
   "execution_count": null,
   "metadata": {
    "collapsed": false,
    "deletable": true,
    "editable": true
   },
   "outputs": [],
   "source": [
    "# Creación del mismo gráfico anterior pero controlando algunas opciones de estilo\n",
    "visitas = np.array([22.1, 20.3, 19.9, 17.9, 19.8])\n",
    "labels = [\"Deportes\", \"Cultura\", \"Sociedad\", u\"Tecnología\", \"Otros\"]\n"
   ]
  },
  {
   "cell_type": "markdown",
   "metadata": {
    "deletable": true,
    "editable": true
   },
   "source": [
    "***\n",
    "<h3 style=\"color: navy\">6. Representación de histogramas</h3>\n",
    "\n",
    "Los histogramas no son más que un tipo de diagrama de barras. Podríamos generar histogramas facilmente con los datos un poco de estadística, pero matplotlib proporciona una función para crear histogramas directamente. La función hist tiene las siguientes propiedades (no están todas, si quieres una referencia completa consulta la documentación).\n",
    "\n",
    "> `hist(x, bins=10, normed=False, color=None)`\n",
    ">- **_x :_** Datos sobre los que realizar el histograma\n",
    ">- **_bins :_**Numero de barras (agrupaciones / bins) del histograma. 10 por defecto\n",
    ">- **_normed :_**Especifica si valores son normalizados a probabilidades (El área del histograma sumará 1)\n",
    "\n",
    "Esta función devuelve una tupla con **(n, bins, patches)**. Donde n son los valores de alturas de cada barra, bins son los límites izquierdos de las barras más el límite derecho de la ultima barra, y patches es una lista con los objetos graficos \"barras\" utilizados para crear el gráfico."
   ]
  },
  {
   "cell_type": "code",
   "execution_count": null,
   "metadata": {
    "collapsed": false,
    "deletable": true,
    "editable": true
   },
   "outputs": [],
   "source": [
    "# Crea 1000 valores aleatorios con una distribución normal de media 100 y desviación típica 10\n",
    "# Representa su histograma con los valores por defecto\n",
    "# Guarda las variables de n, bins y patches devueltas por la función histo\n"
   ]
  },
  {
   "cell_type": "code",
   "execution_count": null,
   "metadata": {
    "collapsed": false,
    "deletable": true,
    "editable": true
   },
   "outputs": [],
   "source": [
    "# Con los valores de n y bins, crea el histograma anterior pero con la función bar\n"
   ]
  },
  {
   "cell_type": "code",
   "execution_count": null,
   "metadata": {
    "collapsed": false,
    "deletable": true,
    "editable": true
   },
   "outputs": [],
   "source": [
    "# Otra alternativa para un histograma, utilizando la función de numpy histogram\n",
    "n, bins = np.histogram(valores, bins=30)\n",
    "width = (bins[-1] - bins[0]) / n.size\n",
    "plt.bar(bins[:-1], n, width=width, color=\"g\", edgecolor=\"k\")"
   ]
  },
  {
   "cell_type": "code",
   "execution_count": null,
   "metadata": {
    "collapsed": false,
    "deletable": true,
    "editable": true
   },
   "outputs": [],
   "source": [
    "# La siguiente función pdf(X, mu, sigma) calcula la función de distribución de probabilidades \n",
    "# de una distribución normal de media \"mu\" y desviación típica \"sigma\"\n",
    "# La variable X, hace referencia a los valores de la X (límites de los bins del histograma)\n",
    "def pdf(X, mu, sigma):\n",
    "    \"\"\"Calcula la distribución de probabilidades\"\"\"\n",
    "    a = 1. / (sigma * np.sqrt(2. * np.pi))\n",
    "    b = -1. / (2. * sigma ** 2)\n",
    "    return a * np.exp(b * (X - mu) ** 2)\n",
    "\n",
    "# Si representamos el histograma normalizado (normed = True)\n",
    "# podemos representar histograma y la distribución de probabilidades juntos\n",
    "color = (0.66, 0.96, 0.81, 0.75)\n",
    "n, bins, patches = plt.hist(valores, bins=30, normed=True, color=color, edgecolor=\"k\")\n",
    "pdf_vals = pdf(bins, mu, sigma)\n",
    "plt.plot(bins, pdf(bins, mu, sigma), c=\"r\")\n"
   ]
  },
  {
   "cell_type": "markdown",
   "metadata": {
    "deletable": true,
    "editable": true
   },
   "source": [
    "***\n",
    "<h3 style=\"color: navy\">7. Representación de box-plots</h3>\n",
    "\n",
    "Esta función realiza un gráfico box-plot para una distribución de valores, mostrando el rango intercuartílico, la mediana, y los valores atípicos. (Ver la ayuda de la función para todas las funciones).\n",
    "\n",
    "> `hist(x, notch=None, sym=None, vert=None, showcaps=True, showbox=True, showfliers=True, showmeans=False, ...)`\n",
    ">- **_x:_** Distribución de valores\n",
    ">- **_notch:_** Booleano. Especifica si el box-plot será cuadrado o con \"muescas\"\n",
    ">- **_sym:_** Símbolo para los puntos atípicos (aquellos por encima y debajo de 1.5 * RIC. Si es None, el símbolo será \"b+\". Si no queremos símbolos; sym = \"\"\n",
    ">- **_vert:_** Booleano. Especifica si el box-plot será vertical (True) u horizontal (False)\n",
    ">- **_showcaps:_** Booleano. Especifica si se muestra terminaciones a los \"bigotes\" (1.5 * RIC).\n",
    ">- **_showbox:_** Booleano. Especifica si se muestra la caja con el rango intercuartilico (RIC)"
   ]
  },
  {
   "cell_type": "code",
   "execution_count": null,
   "metadata": {
    "collapsed": false,
    "deletable": true,
    "editable": true
   },
   "outputs": [],
   "source": [
    "# Crea un array con 100 valores aleatorios con media 50 y desviación tipica de 10\n",
    "# Crea 10 valores \"atípicos\" aleatorios, 5 superiores y 5 inferiores\n",
    "# Une los 10 valores atípicos a la distribución\n",
    "# Representa los datos en un box-plot\n",
    "np.random.seed(111222)\n"
   ]
  },
  {
   "cell_type": "code",
   "execution_count": null,
   "metadata": {
    "collapsed": false,
    "deletable": true,
    "editable": true
   },
   "outputs": [],
   "source": [
    "# Representa los datos anteriores pero cambia:\n",
    "# Simbolo para valores atípicos --> diamantes grandes verdes)\n",
    "# Box-plot con muescas en vez de cuadrado\n",
    "\n",
    "res = plt.boxplot(data, notch = True, sym = 'gd')"
   ]
  },
  {
   "cell_type": "markdown",
   "metadata": {
    "deletable": true,
    "editable": true
   },
   "source": [
    "### Representar varios box-plot para distintas distribuciones\n",
    "\n",
    "Para representar varios box-plot en un único gráfico, debemos llamar a la función box-plot indicando un array o lista con todas las distribuciones."
   ]
  },
  {
   "cell_type": "code",
   "execution_count": null,
   "metadata": {
    "collapsed": false,
    "deletable": true,
    "editable": true
   },
   "outputs": [],
   "source": [
    "# Crea 4 distribuciones de prueba con datos aleatorios\n",
    "# 50 valores aleatorios con distribución normal de media 50 y desviación tipica de 50\n",
    "# 25 valores centrales de 50\n",
    "# 5 valores atípicos superiores y 5 inferiores\n",
    "# Representa un gráfico con los box-plots de las 4 distribuciones\n",
    "# Representa los box-plots con muescas y los valores atipicos con estrellas azules (\"b*\")\n",
    "np.random.seed(12345)\n"
   ]
  },
  {
   "cell_type": "markdown",
   "metadata": {
    "deletable": true,
    "editable": true
   },
   "source": [
    "***\n",
    "<h3 style=\"color: navy\">8. Representación de barras de error</h3>\n",
    "\n",
    "En ciencias experimentales, algo típico es representar las medidas con su error asociado. Matplotlib ofrece la función errorbar() para representar barras de errores.\n",
    "\n",
    "> `errorbar(x, y, yerr=None, xerr=None, fmt=u'', ecolor=None, elinewidth=None, capsize=None)`\n",
    ">- **_x, y:_** Listas o arrays con los valores de x e y a representar\n",
    ">- **_xerr, yerr:_** Listas o arrays con los valores de errores de x e y\n",
    ">- **_fmt:_** Formato de representación de la línea. Si es None, solo se representan las barras de error\n",
    ">- **_ecolor:_** Color de la barras de error\n",
    ">- **_elinewidth:_** Ancho de línea de la barras de error\n",
    ">- **_capsize:_** Tamaño del \"cap\" de la barra de error. Si es None, no habra  caps."
   ]
  },
  {
   "cell_type": "code",
   "execution_count": null,
   "metadata": {
    "collapsed": false,
    "deletable": true,
    "editable": true
   },
   "outputs": [],
   "source": [
    "# Crea un array con 20 valores de x entre [0, 4]\n",
    "# Crea 20 valores de y segun la función y = e^(-x)\n",
    "# Crea 20 valores de error entre 0 y 0.1\n",
    "# Representa la gráfica (x, y) y los valores de error como barras de error\n",
    "np.random.seed(1234)\n"
   ]
  },
  {
   "cell_type": "markdown",
   "metadata": {
    "deletable": true,
    "editable": true
   },
   "source": [
    "### Barras de error asimétricas\n",
    "\n",
    "Para crear barras de error asímetricas, como parámetro de yerr o xerr, especificaremos una lista o array con dos arrays de valores de error"
   ]
  },
  {
   "cell_type": "code",
   "execution_count": null,
   "metadata": {
    "collapsed": false,
    "deletable": true,
    "editable": true
   },
   "outputs": [],
   "source": [
    "# Crea valores de error asimetricos entre 0 y 0.1\n",
    "# Representa la gráfica anterior y los valores de error\n",
    "np.random.seed(1234)\n"
   ]
  },
  {
   "cell_type": "code",
   "execution_count": null,
   "metadata": {
    "collapsed": false,
    "deletable": true,
    "editable": true
   },
   "outputs": [],
   "source": [
    "# Crea valores de error simétricos para x e y entre [0, 0.1] y [0, 0.12] respectivamente\n",
    "# Representa la gráfica y los valores de error\n",
    "np.random.seed(1234)\n"
   ]
  },
  {
   "cell_type": "markdown",
   "metadata": {
    "deletable": true,
    "editable": true
   },
   "source": [
    "***\n",
    "<h3 style=\"color: navy\">9. Representación de graficos polares</h3>\n",
    "\n",
    "Este tipo de gráficos usa un sistema de coordenadas diferente (polares no cartesianas). En un grafico polar la posición de un punto esta definida con un radio y un ángulo (coordenadas radiales y angulares). El radio denota la distancia al punto central (también llamado polo), mientras que el angulo representa el angulo entre el punto y el eje x. Los angulos en matplotlib se expresan en grados.\n",
    "\n",
    "> `polar(theta, r, args)`\n",
    ">- **_theta:_** Array con los valores de theta a representar\n",
    ">- **_r:_** Array con los valores de r a representar\n",
    ">- **_args:_** Especifica opciones de estilo de representacion"
   ]
  },
  {
   "cell_type": "code",
   "execution_count": null,
   "metadata": {
    "collapsed": false,
    "deletable": true,
    "editable": true
   },
   "outputs": [],
   "source": [
    "# Como ejemplo vamos a generar unos pocos datos en coordenadas polares\n",
    "# Datos de theta 360 valores espaciados entre 0 y 2pi\n",
    "theta = np.linspace(0, 2*np.pi, 360)\n",
    "# Dibujamos una espiral\n",
    "plt.polar(3*theta, theta/5)\n",
    "# Dibujamos una rosa polar\n",
    "plt.polar(theta, np.cos(4*theta))\n",
    "# Dibujamos un círculo\n",
    "plt.polar(theta, [1.4]*len(theta))"
   ]
  },
  {
   "cell_type": "code",
   "execution_count": null,
   "metadata": {
    "collapsed": false,
    "deletable": true,
    "editable": true
   },
   "outputs": [],
   "source": [
    "# El archivo data/polar_data.csv contiene datos de pendiente y orientación de ladera\n",
    "# Carga y representa los datos con diamantes verdes (\"gd\")\n",
    "# Los nombres de las dos columnas son 'Pendiente' y 'Orientacion'\n"
   ]
  },
  {
   "cell_type": "markdown",
   "metadata": {
    "deletable": true,
    "editable": true
   },
   "source": [
    "***\n",
    "<h3 style=\"color: navy\">10. Representación de imágenes</h3>\n",
    "\n",
    "Con esta función podemos representar imágenes ráster.\n",
    "\n",
    "> `imshow(x, args)`\n",
    ">- **_x:_** Array con la imagen a representar. Si es un array de 3 dimensiones, se representará una imagen en color. \n",
    ">- **_args:_** Argumentos para la representación."
   ]
  },
  {
   "cell_type": "code",
   "execution_count": null,
   "metadata": {
    "collapsed": false,
    "deletable": true,
    "editable": true
   },
   "outputs": [],
   "source": [
    "# Ejemplo con una imagen de prueba de scipy\n",
    "import scipy.misc\n",
    "img=scipy.misc.face()\n",
    "plt.imshow(img)"
   ]
  },
  {
   "cell_type": "code",
   "execution_count": null,
   "metadata": {
    "collapsed": false,
    "deletable": true,
    "editable": true
   },
   "outputs": [],
   "source": [
    "# Carga y representa la imagen \"data/stinkbug.png\"\n",
    "# Utiliza el la función imread(path) del módulo image de matplotlib\n",
    "import matplotlib.image as mpimage\n"
   ]
  },
  {
   "cell_type": "code",
   "execution_count": null,
   "metadata": {
    "collapsed": false,
    "deletable": true,
    "editable": true
   },
   "outputs": [],
   "source": [
    "# Plotea el grid de elevaciones \"data/granada_dem.npy\"\n",
    "# Utiliza una rampa de color (cm.terrain) con el argumento cmap\n",
    "# La rampa de color la podemos generar con el módulo cm de matplotlib\n",
    "import matplotlib.cm as cm\n"
   ]
  }
 ],
 "metadata": {
  "kernelspec": {
   "display_name": "Python 2",
   "language": "python",
   "name": "python2"
  },
  "language_info": {
   "codemirror_mode": {
    "name": "ipython",
    "version": 2
   },
   "file_extension": ".py",
   "mimetype": "text/x-python",
   "name": "python",
   "nbconvert_exporter": "python",
   "pygments_lexer": "ipython2",
   "version": "2.7"
  }
 },
 "nbformat": 4,
 "nbformat_minor": 0
}
