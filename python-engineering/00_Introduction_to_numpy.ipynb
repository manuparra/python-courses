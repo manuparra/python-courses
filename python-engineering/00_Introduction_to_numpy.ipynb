{
 "cells": [
  {
   "cell_type": "markdown",
   "metadata": {
    "deletable": true,
    "editable": true
   },
   "source": [
    "## ¿Qué es numpy?\n",
    "\n",
    "Numpy es el paquete fundamental para trabajo científico con Python. Consiste en varios módulos que incluyen funcionalidad para un tratamiendo de datos muy eficiente (esta programado a bajo nivel)\n",
    "\n",
    "Junto con matplotlib y scipy (que se basa en numpy), proporciona tanta funcionalidad como otros paquetes software como Matlab, con la ventaja de integrarse perfectamente con el \"core\" de Python\n",
    "\n",
    "Algunas de las ventajas de numpy que podemos destacar incluyen:\n",
    "\n",
    "- Multiplataforma (al igual que Python, podemos utilizarlo en Linux, PC, Mac, etc.\n",
    "- Los tipos de datos y funciones principales están programadas a más bajo nivel que Python, con lo que son muy eficientes\n",
    "- Se integra perfectamente con el nucleo de Python\n",
    "- Se complementa con matplotlib, un paquete gráfico muy potente\n",
    "- Es gratuito y de código abierto"
   ]
  },
  {
   "cell_type": "code",
   "execution_count": 1,
   "metadata": {
    "collapsed": true,
    "deletable": true,
    "editable": true
   },
   "outputs": [],
   "source": [
    "# Para importar numpy utilizaremos la siguiente nomenclatura\n",
    "import numpy as np"
   ]
  },
  {
   "cell_type": "markdown",
   "metadata": {
    "deletable": true,
    "editable": true
   },
   "source": [
    "***\n",
    "![](data/array_3x5x8.png)\n",
    "## ndarray\n",
    "\n",
    "Es el tipo de dato fundamental de numpy, sirve para almacenar datos en una o varias dimensiones.\n",
    "\n",
    "- Es parecido a las listas de Python, pero está programado a más bajo nivel (C), por lo que es mucho más eficiente.\n",
    "- Al contrario que las listas de Python, solo puede contener **un tipo de dato**\n",
    "- Añade funcionalidad avanzada para operaciones matématicas de algegra linear, indexación avanzada, operaciones elemento-a-elemento, etc.\n",
    "- A pesar de no estar programado en Python, se integra perfectamente con los demás elementos del lenguaje"
   ]
  },
  {
   "cell_type": "markdown",
   "metadata": {
    "deletable": true,
    "editable": true
   },
   "source": [
    "***\n",
    "### Tipos de datos de un array \n",
    "\n",
    "| Identificador             | Tipo de dato                    |\n",
    "|---------------------------|---------------------------------|\n",
    "| int                       | Entero                          |\n",
    "| float                     | Decimal                         |\n",
    "| bool                      | Boleano (1bit)                  |\n",
    "| S{n}                      | Cadena de texto de n caracteres |\n",
    "| complex                   | Número complejo                 |\n",
    "| int8, int16, int32, int64 | Entero de 8, 16, 32 o 64 bits   |\n",
    "| float32, float64          | Decimal de 32 o 64 bits         |"
   ]
  },
  {
   "cell_type": "markdown",
   "metadata": {
    "deletable": true,
    "editable": true
   },
   "source": [
    "***\n",
    "### Propiedades de un array\n",
    "\n",
    "| Propiedad | Descripción                                           |\n",
    "|-----------|-------------------------------------------------------|\n",
    "| shape     | Tupla con dimensiones del array                       |\n",
    "| ndim      | Número de dimensiones del array                       |\n",
    "| size      | Número de elementos del array                         |\n",
    "| itemsize  | Tamaño de cada uno de los elementos del array (bytes) |\n",
    "| nbytes    | Tamaño total del array (bytes)                        |\n",
    "| real      | Parte real del array (si es de tipo complex)          |\n",
    "| imag      | Parte imaginaria del array (si es de tipo complex)    |"
   ]
  },
  {
   "cell_type": "code",
   "execution_count": 2,
   "metadata": {
    "collapsed": false,
    "deletable": true,
    "editable": true
   },
   "outputs": [
    {
     "name": "stdout",
     "output_type": "stream",
     "text": [
      "[[  1.   2.   3.   4.]\n",
      " [  5.   6.   7.   8.]\n",
      " [  9.  10.  11.  12.]]\n",
      "Array de 2 dimensiones\n",
      "Array con 12 elementos\n",
      "Cada elemento tiene 4 bytes\n",
      "Cada elemento tiene 32 bits\n",
      "El array ocupa 48 bytes\n",
      "El array ocupa 48 bytes\n",
      "El tipo de datos es  float32\n"
     ]
    }
   ],
   "source": [
    "# Rellena con las propiedades de un nd-array\n",
    "# Sustituye None por la propiedad del array que creas mas indicada\n",
    "\n",
    "arr = np.array([[1,2,3,4], [5,6,7,8], [9,10,11,12]], dtype = \"float32\")\n",
    "\n",
    "# Imprime el Array\n",
    "print arr\n",
    "\n",
    "# Imprime el número de dimensiones del array\n",
    "print \"Array de\", arr.ndim, \"dimensiones\"\n",
    "\n",
    "# Imprime el número total de elementos del array\n",
    "print \"Array con\", arr.size, \"elementos\"\n",
    "\n",
    "# Imprime el tamaño de cada elemento en bytes\n",
    "print \"Cada elemento tiene\", arr.itemsize, \"bytes\"\n",
    "\n",
    "# Imprime el tamaño de cada elemento en bits\n",
    "print \"Cada elemento tiene\", arr.itemsize * 8, \"bits\"\n",
    "\n",
    "# Imprime el tamaño total del array en bytes\n",
    "print \"El array ocupa\", arr.nbytes, \"bytes\"\n",
    "\n",
    "# Imprime el tamaño total del array en bytes (con un código diferente)\n",
    "print \"El array ocupa\", arr.itemsize * arr.size, \"bytes\"\n",
    "\n",
    "# Imprime el tipo de datos del array\n",
    "print \"El tipo de datos es \", arr.dtype"
   ]
  },
  {
   "cell_type": "code",
   "execution_count": 3,
   "metadata": {
    "collapsed": false,
    "deletable": true,
    "editable": true
   },
   "outputs": [
    {
     "name": "stdout",
     "output_type": "stream",
     "text": [
      "--------------------------------------------------\n",
      "Función multiplica_lista:\n",
      "La función se ha ejecutado en 0.0623869895935 segundos\n",
      "\n",
      "--------------------------------------------------\n",
      "Función multiplica_array:\n",
      "La función se ha ejecutado en 0.00596690177917 segundos\n"
     ]
    }
   ],
   "source": [
    "# Ejemplo de comparación de la velocidad de calculo de un array respecto a una lista\n",
    "\n",
    "import numpy as np\n",
    "import time\n",
    "\n",
    "# Función decoradora que nos \"cronometrará\" lo que tarda en ejecutarse una función\n",
    "def cronometro(funcion):\n",
    "    def wrapper(*args, **kwargs):\n",
    "        # Tiempo de inicio de ejecución.\n",
    "        inicio = time.time()\n",
    "        # Ejecutamos la funcion\n",
    "        ret = funcion(*args, **kwargs)\n",
    "        # Tiempo de finalización de la ejecución.\n",
    "        fin = time.time()\n",
    "        print \"La función se ha ejecutado en \" + str(fin - inicio) + \" segundos\"\n",
    "        return ret\n",
    "    return wrapper\n",
    "\n",
    "# Función que multiplica todos los elementos de una lista por un valor\n",
    "# La \"decoramos\" con cronometro\n",
    "@cronometro\n",
    "def multiplica_lista(lista, valor):\n",
    "    for element in lista:\n",
    "        element = element * valor\n",
    "    return lista\n",
    "\n",
    "# Función que multiplica todos los elementos de un array por un valor\n",
    "# La \"decoramos\" con cronometro\n",
    "@cronometro    \n",
    "def multiplica_array(array, valor):\n",
    "    return array * valor\n",
    "\n",
    "# Probamos la ejecución de ambas funciones\n",
    "lista = range(1000000)\n",
    "arr = np.arange(1000000)\n",
    "\n",
    "print \"-\" * 50\n",
    "print \"Función multiplica_lista:\"\n",
    "out_lista = multiplica_lista(lista, 8)\n",
    "print\n",
    "print \"-\" * 50\n",
    "print \"Función multiplica_array:\"\n",
    "out_arra = multiplica_array(arr, 8)"
   ]
  }
 ],
 "metadata": {
  "kernelspec": {
   "display_name": "Python 2",
   "language": "python",
   "name": "python2"
  },
  "language_info": {
   "codemirror_mode": {
    "name": "ipython",
    "version": 2
   },
   "file_extension": ".py",
   "mimetype": "text/x-python",
   "name": "python",
   "nbconvert_exporter": "python",
   "pygments_lexer": "ipython2",
   "version": "2.7.10"
  }
 },
 "nbformat": 4,
 "nbformat_minor": 0
}
