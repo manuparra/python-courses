{
 "cells": [
  {
   "cell_type": "markdown",
   "metadata": {},
   "source": [
    "## Arrays de objetos\n",
    "\n",
    "Una característica muy potente es que podemos guardar instancias de clases en un array. Esto nos da una gran funcionalidad si queremos guardar objetos para recuperarlos despues mediante las funciones **numpy.save()** y **numpy.load()**.\n",
    "\n",
    "Python permite la serialización de objetos mediante cPickle, pero serializar con numpy es más sencillo, puesto que no tenemos que crear objetos fichero previamente. El rendimiento puede es parecido, aunque numpy es un poco más rapido."
   ]
  },
  {
   "cell_type": "code",
   "execution_count": 2,
   "metadata": {
    "collapsed": true
   },
   "outputs": [],
   "source": [
    "# Importamos los módulos necesarios\n",
    "import numpy as np\n",
    "import matplotlib.pyplot as plt\n",
    "%matplotlib inline"
   ]
  },
  {
   "cell_type": "code",
   "execution_count": 3,
   "metadata": {},
   "outputs": [],
   "source": [
    "# Observa la siguiente clase \"Cuenta\"\n",
    "class Cuenta(object):   \n",
    "    def __init__(self, nombre, saldo_inicial):\n",
    "        self._nombre = nombre\n",
    "        self._saldo = saldo_inicial\n",
    "        self._operaciones = []\n",
    "    \n",
    "    def ingresar(self, cantidad):\n",
    "        self._saldo += cantidad\n",
    "        self._operaciones.append(\"Ingreso de \" + str(cantidad)+\"\\nSaldo en cuenta de \" + str(self._saldo))\n",
    "    \n",
    "    def retirar(self, cantidad):\n",
    "        if cantidad > self._saldo:\n",
    "            print \"Operación denegada por la entidad\"\n",
    "            print \"Saldo insuficiente\"\n",
    "            self._operaciones.append(\"Operación de retirada cancelada, saldo insuficiente\")\n",
    "        else:\n",
    "            self._operaciones.append(\"_\"*25 + \"\\nRetirada de \" + str(cantidad)+ \"\\nSaldo en cuenta de \" + str(self._saldo))\n",
    "            self._saldo -= cantidad\n",
    "        \n",
    "    def consulta_saldo(self):\n",
    "        print \"Tu saldo en cuenta es de: \" + str(self._saldo)\n",
    "        \n",
    "    def consulta_operaciones(self, ultimas = 10):\n",
    "        if len(self._operaciones)<ultimas:\n",
    "            ultimas = len(self._operaciones)\n",
    "        for n in range(ultimas -1, -1, -1):\n",
    "            print self._operaciones[n]"
   ]
  },
  {
   "cell_type": "code",
   "execution_count": 21,
   "metadata": {},
   "outputs": [],
   "source": [
    "# Crea 50 cuentas aleatorias con un saldo inicial de 2500 euros \n",
    "# Realiza para cada una de ellas 25 operaciones aleatorias de retirada o ingreso de cantidades de 0 a 200 euros\n",
    "# Crea nombres aleatorios para los titulares \n",
    "# Utiliza los archivos \"data/50_nombres.txt\" y \"data/50_ape.txt\"\n",
    "nombres = np.loadtxt(\"data/50_nombres.txt\", dtype=\"str\")\n",
    "apellidos = np.loadtxt(\"data/50_ape.txt\", dtype=\"str\")\n",
    "\n",
    "cuentas = []\n",
    "for n in range(50):\n",
    "        # Creamos un nombre aleatorio para el titular de la cuenta\n",
    "        nombre = np.random.choice(nombres).title()\n",
    "        ape1 = np.random.choice(apellidos).title()\n",
    "        ape2 = np.random.choice(apellidos).title()\n",
    "        titular = \" \".join((nombre, ape1, ape2))\n",
    "        # Creamos una cuenta\n",
    "        cuenta = Cuenta(titular, 2500)\n",
    "        # Hacemos 25 operaciones\n",
    "        for n in range(25):\n",
    "            cantidad = np.random.randint(200)\n",
    "            tipo_op = np.random.choice([\"R\", \"I\"])\n",
    "            if tipo_op == \"R\":\n",
    "                cuenta.retirar(cantidad)\n",
    "            else:\n",
    "                cuenta.ingresar(cantidad)\n",
    "        cuentas.append(cuenta)\n",
    "\n",
    "# Salva la lista de cuentas como un array en \"data/cuentas_aletorias.npy\"\n",
    "np.save(\"data/cuentas_aleatorias.npy\", np.array(cuentas))"
   ]
  },
  {
   "cell_type": "code",
   "execution_count": 20,
   "metadata": {},
   "outputs": [
    {
     "name": "stdout",
     "output_type": "stream",
     "text": [
      "Cuenta #10\n",
      "Titular: Fernando Diaz Sanz\n",
      "Tu saldo en cuenta es de: 2577\n",
      "____________________\n",
      "Cuenta #11\n",
      "Titular: Juan Rubio Martin\n",
      "Tu saldo en cuenta es de: 3213\n",
      "____________________\n",
      "Cuenta #12\n",
      "Titular: Alfonso Romero Martin\n",
      "Tu saldo en cuenta es de: 2523\n",
      "____________________\n",
      "Cuenta #13\n",
      "Titular: Ivan Alonso Marin\n",
      "Tu saldo en cuenta es de: 3276\n",
      "____________________\n"
     ]
    }
   ],
   "source": [
    "# Lee las cuentas del archivo guardado\n",
    "# Imprime los propietarios de las cuentas 10 a 13 y sus saldos\n",
    "cuentas = np.load(\"data/cuentas_aleatorias.npy\")\n",
    "for n in range(9, 13):\n",
    "    print \"Cuenta #{0}\".format(n+1)\n",
    "    print \"Titular: \" + cuentas[n]._nombre\n",
    "    cuentas[n].consulta_saldo()\n",
    "    print \"_\"*20"
   ]
  },
  {
   "cell_type": "code",
   "execution_count": 22,
   "metadata": {},
   "outputs": [
    {
     "name": "stdout",
     "output_type": "stream",
     "text": [
      "La función se ha ejecutado en 1.16118097305 segundos\n",
      "La función se ha ejecutado en 0.55837893486 segundos\n",
      "La función se ha ejecutado en 0.89496588707 segundos\n",
      "La función se ha ejecutado en 0.581037044525 segundos\n"
     ]
    }
   ],
   "source": [
    "# Vamos a comprobar las ventajas de serializar objetos con numpy frente a la serialización normal\n",
    "import cPickle\n",
    "import time\n",
    "\n",
    "# Función decoradora que nos \"cronometrará\" lo que tarda en ejecutarse una función\n",
    "def cronometro(funcion):\n",
    "    def wrapper(*args, **kwargs):\n",
    "        # Tiempo de inicio de ejecución.\n",
    "        inicio = time.time()\n",
    "        # Ejecutamos la funcion\n",
    "        ret = funcion(*args, **kwargs)\n",
    "        # Tiempo de finalización de la ejecución.\n",
    "        fin = time.time()\n",
    "        print \"La función se ha ejecutado en \" + str(fin - inicio) + \" segundos\"\n",
    "        return ret\n",
    "    return wrapper\n",
    "\n",
    "@cronometro\n",
    "def guarda_objetos(lista_objetos, path):\n",
    "    cPickle.dump(lista_objetos, open(path, \"w\"))\n",
    "\n",
    "@cronometro\n",
    "def guarda_objetos2(arr_objetos, path):\n",
    "    np.save(path, arr_objetos)\n",
    "    \n",
    "@cronometro\n",
    "def carga_objetos(path):\n",
    "    return cPickle.load(open(path, \"r\"))\n",
    "\n",
    "@cronometro\n",
    "def carga_objetos2(path):\n",
    "    return np.load(path)\n",
    "\n",
    "nombres = np.loadtxt(\"data/50_nombres.txt\", dtype = \"|S15\")\n",
    "# Creamos una lista con 50000 cuentas con saldo inicial 1000 euros\n",
    "lista_cuentas = [Cuenta(np.random.choice(nombres).title(), 1000) for n in range(50000)]\n",
    "arr_cuentas = np.array(lista_cuentas)\n",
    "\n",
    "guarda_objetos(lista_cuentas, \"data/lista_cuentas.dat\")\n",
    "guarda_objetos2(arr_cuentas, \"data/arr_cuentas.npy\")\n",
    "\n",
    "res = carga_objetos(\"data/lista_cuentas.dat\")\n",
    "res = carga_objetos2(\"data/arr_cuentas.npy\")"
   ]
  }
 ],
 "metadata": {
  "kernelspec": {
   "display_name": "Python 2",
   "language": "python",
   "name": "python2"
  },
  "language_info": {
   "codemirror_mode": {
    "name": "ipython",
    "version": 2
   },
   "file_extension": ".py",
   "mimetype": "text/x-python",
   "name": "python",
   "nbconvert_exporter": "python",
   "pygments_lexer": "ipython2",
   "version": "2.7.10"
  }
 },
 "nbformat": 4,
 "nbformat_minor": 1
}
