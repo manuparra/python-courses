{
 "cells": [
  {
   "cell_type": "markdown",
   "metadata": {},
   "source": [
    "## Manipulación de arrays\n",
    "\n",
    "Además de los métodos de indexado en arrays, numpy también ofrece funcionalidad para insertar, eliminar o agregar elementos a un array. En todas estás operaciones tendremos que tener especial cuidado con las dimensiones del array. "
   ]
  },
  {
   "cell_type": "markdown",
   "metadata": {},
   "source": [
    "***\n",
    "### Ejes (axis) en un array\n",
    "\n",
    "Algunas de las operaciones en un array se hacen a través de un eje (axis) determinado del array. En un array n-dimensional la última dimension serán las columnas del array. Por ejemplo en un array bidimensional la primera dimensión serán las filas (axis=0) y la segunda las columnas (axis=1). En un array tridimensional, la primera dimensión será la profundidad (axis=0), la segunda las filas (axis=1) y la última las columnas (axis=2).\n",
    "\n",
    "Por ejemplo para un array 2D:\n",
    "- Realizar una operación a través del eje 0 implicará realizar la operación a traves de las filas, o sea, para cada columna. \n",
    "- Realizar una operación a través del eje 1 implicará realizar la operación a traves de las columnas, o sea, para cada fila. \n",
    "\n",
    "![](data/arr_axis.jpg)\n",
    "\n",
    "Especificar **axis=None**, implica que la operación se realiza sobre la version **unidimensional** del array"
   ]
  },
  {
   "cell_type": "code",
   "execution_count": null,
   "metadata": {
    "collapsed": true
   },
   "outputs": [],
   "source": [
    "# Importamos los módulos necesarios\n",
    "import numpy as np\n",
    "import matplotlib.pyplot as plt\n",
    "%matplotlib inline"
   ]
  },
  {
   "cell_type": "code",
   "execution_count": null,
   "metadata": {},
   "outputs": [],
   "source": [
    "# Crea un array de (3, 3) con valores de 1, 2 y 3 para todos los elementos de las filas 1, 2 y 3\n",
    "# Imprime el array resultante\n",
    "lista = [[n+1]*3 for n in range(3)]\n",
    "arr = np.array(lista)\n",
    "print arr"
   ]
  },
  {
   "cell_type": "code",
   "execution_count": null,
   "metadata": {},
   "outputs": [],
   "source": [
    "# Realiza la media de todos los elementos del array\n",
    "# Imprime el resutado\n",
    "media = arr.mean()\n",
    "print media"
   ]
  },
  {
   "cell_type": "code",
   "execution_count": null,
   "metadata": {},
   "outputs": [],
   "source": [
    "# Realiza la media para cada columna (a traves de las filas)\n",
    "# Imprime el resultado\n",
    "media = arr.mean(axis = 0)\n",
    "print media"
   ]
  },
  {
   "cell_type": "code",
   "execution_count": null,
   "metadata": {},
   "outputs": [],
   "source": [
    "# Realiza la media para cada fila (a traves de las columnas)\n",
    "media = arr.mean(axis = 1)\n",
    "print media"
   ]
  },
  {
   "cell_type": "code",
   "execution_count": null,
   "metadata": {},
   "outputs": [],
   "source": [
    "# Crea un array de (2, 3, 4) con valores enteros aleatorios entre [0, 10)\n",
    "# Imprime el array resultante\n",
    "np.random.seed(111) # Usamos una semilla para que todos obtengamos los mismos valores\n",
    "arr = np.random.randint(0, 10, (2, 3, 4))\n",
    "print arr"
   ]
  },
  {
   "cell_type": "code",
   "execution_count": null,
   "metadata": {},
   "outputs": [],
   "source": [
    "# Suma todos los elementos del array\n",
    "# Imprime el resultado\n",
    "suma = arr.sum()\n",
    "print suma"
   ]
  },
  {
   "cell_type": "code",
   "execution_count": null,
   "metadata": {},
   "outputs": [],
   "source": [
    "# Suma los elementos del array a través de su primer eje (axis=0)\n",
    "# Suma los elementos del array a través de su primer eje (axis=1)\n",
    "# Suma los elementos del array a través de su primer eje (axis=2)\n",
    "# Imprime los arrays resultantes\n",
    "suma0 = arr.sum(axis=0)\n",
    "suma1 = arr.sum(axis=1)\n",
    "suma2 = arr.sum(axis=2)\n",
    "print suma0\n",
    "print \"-\"*15\n",
    "print suma1\n",
    "print \"-\"*15\n",
    "print suma2"
   ]
  },
  {
   "cell_type": "markdown",
   "metadata": {},
   "source": [
    "***\n",
    "### Dimensiones de un array\n",
    "Algunas de las operaciones de concatenación, insertar o añadir valores, requieren que los arrays tengan el mismo número de dimensiones y formas compatibles."
   ]
  },
  {
   "cell_type": "code",
   "execution_count": null,
   "metadata": {},
   "outputs": [],
   "source": [
    "# Crea un array unidimensional con 10 valores consecutivos de [0, 9)\n",
    "# A partir del primer array, crea un segundo array de (10, 1)\n",
    "# A partir del primer array, crea un segundo array de (1, 10)\n",
    "# Imprime los tres arrays, su número de dimensiones y sus dimensiones\n",
    "arr1 = np.arange(10)\n",
    "arr2 = arr1.reshape((10, 1))\n",
    "arr3 = arr1.reshape((1, 10))\n",
    "\n",
    "for idx, arr in enumerate((arr1, arr2, arr3)):\n",
    "    print \"Array {0}\".format(idx)\n",
    "    print arr\n",
    "    print arr.ndim\n",
    "    print arr.shape\n",
    "    print \"-\" * 20"
   ]
  },
  {
   "cell_type": "markdown",
   "metadata": {},
   "source": [
    "***\n",
    "### Intercambio de las dimensiones de un array (traspuesta de un array)\n",
    "\n",
    "Tenemos dos opciones principales para transponer un array:\n",
    "1. La propiedad **array.T**, devuelve un array con las dimensiones intercambiadas (su traspuesta)\n",
    "2. El método **array.transpose()**, devuelve un array con las dimensiones intercambiadas (su traspuesta)\n",
    "\n",
    "Ambos arrays son \"vistas\" del array original *(comparten memoria con el array inicial)*"
   ]
  },
  {
   "cell_type": "code",
   "execution_count": null,
   "metadata": {},
   "outputs": [],
   "source": [
    "# Crea dos listas x e y con valores aleatorios entre 0 y 10\n",
    "x = [np.random.randint(0, 10) for n in range(10)]\n",
    "y = [np.random.randint(0, 10) for n in range(10)]\n",
    "\n",
    "# Crea un array de (10, 2) con los valores creados\n",
    "# Imprime el array resultante\n",
    "arr = np.array((x, y))\n",
    "print arr"
   ]
  },
  {
   "cell_type": "code",
   "execution_count": null,
   "metadata": {},
   "outputs": [],
   "source": [
    "# Crea un array transponiendo el array anterior\n",
    "# Crea un segundo array de (10, 2) mediante el método reshape\n",
    "# Imprime los dos arrays y observa las diferencias\n",
    "print \"\\nTRANSPONEMOS EL ARRAY\\n\" + \"-\"*22\n",
    "arr1 = arr.T\n",
    "print arr1\n",
    "\n",
    "print \"\\nMETODO RESHAPE\\n\" + \"-\"*22\n",
    "print arr.reshape((10,2))"
   ]
  },
  {
   "cell_type": "markdown",
   "metadata": {},
   "source": [
    "***\n",
    "### Iterar los elementos de un array\n",
    "\n",
    "La iteración en un array multidimensional se realiza **a lo largo de su primer eje (axis=0)**. Para iterar todos los elementos de un array, podemos hacerlo sobre su versión unidimensional. Esta versión 1D se puede conseguir con la función ravel de numpy, el método flatten, o utilizando la propiedad reshape(-1)\n",
    "\n",
    "> `numpy.ravel(arr, order='C')`\n",
    "\n",
    "> Función de numpy que devuelve una versión unidimensional del array 'arr'. El párametro order, puede ser 'C' (defecto) o 'F', para devovler los elementos ordenados según las columnas o según las filas\n",
    "\n",
    "***\n",
    "> `array.flatten(order='C')`\n",
    "\n",
    "> Método de un array que devuelve un array unidimensional. El párametro order, puede ser 'C' (defecto) o 'F', para devovler los elementos ordenados según las columnas o según las filas\n",
    "\n",
    "***\n",
    "> `array.reshape(-1)`\n",
    "\n",
    ">Este método devuelve una **vista unidimensional** del array (se comparte memoria con el array original)\n"
   ]
  },
  {
   "cell_type": "code",
   "execution_count": null,
   "metadata": {},
   "outputs": [],
   "source": [
    "# Crea un array unidimensional con 5 valores consecutivos entre [0, 5)\n",
    "# Itera los elementos del array e imprime cada iteración\n",
    "arr = np.arange(5)\n",
    "for elemento in arr:\n",
    "    print elemento"
   ]
  },
  {
   "cell_type": "code",
   "execution_count": null,
   "metadata": {},
   "outputs": [],
   "source": [
    "# Crea un array de (2, 6) con valores consecutivos entre [10, 21]\n",
    "# Itera los elementos de este array e imprime cada iteración\n",
    "arr = np.arange(10, 22).reshape(2, 6)\n",
    "for elemento in arr:\n",
    "    print elemento"
   ]
  },
  {
   "cell_type": "code",
   "execution_count": null,
   "metadata": {},
   "outputs": [],
   "source": [
    "# Crea un array de (2, 3, 7) con numeros aleatorios entre [0, 10)\n",
    "# Imprime el array resultante\n",
    "# Itera los elementos de este array e imprime cada iteración \n",
    "# Itera los elemento de un array 3-D (la iteración se hace para su primer eje)\n",
    "np.random.seed(1111)\n",
    "arr = np.random.randint(0,10,(2,3,7))\n",
    "print arr\n",
    "print \"=\" * 25\n",
    "for elemento in arr:\n",
    "    print elemento\n",
    "    print \"-\" * 25"
   ]
  },
  {
   "cell_type": "markdown",
   "metadata": {},
   "source": [
    "***\n",
    "### numpy.unravel_index\n",
    "> `numpy.unravel_index(index, shape, order='C')`\n",
    "\n",
    "> Función de numpy que devuelve los índices de las dimensiones de shape, a partir de un índice de la versión unidimensional del array\n",
    ">- *index*: Índice (o lista de índices) de la versión unidimensional del array\n",
    ">- *shape*: Tupla con la forma del array</li>\n",
    ">- *order*: Especifica si \"aplanamiento\" fue en función de columnas (\"C\") o filas (\"F\")\n",
    "\n",
    "\n",
    "\n"
   ]
  },
  {
   "cell_type": "code",
   "execution_count": null,
   "metadata": {},
   "outputs": [],
   "source": [
    "# Itera todos los elementos del array anterior\n",
    "# Obten las posiciones de los valores pares mayores o iguales que 6\n",
    "# Imprime los valores y las posiciones\n",
    "posiciones = []\n",
    "ind = 0\n",
    "for elemento in arr.ravel():\n",
    "    if elemento >= 6 and elemento%2==0:\n",
    "        posiciones.append(ind)\n",
    "    ind += 1\n",
    "pos = np.unravel_index(posiciones, arr.shape)\n",
    "print arr[pos]\n",
    "print pos"
   ]
  },
  {
   "cell_type": "code",
   "execution_count": null,
   "metadata": {},
   "outputs": [],
   "source": [
    "# Repite la operación anterior\n",
    "# Pero ahora cambia los valores pares mayores de 6 por 0\n",
    "ind = 0\n",
    "for elemento in arr.ravel():\n",
    "    if elemento % 2 == 0 and elemento >= 6:\n",
    "        pos = np.unravel_index(ind, arr.shape)\n",
    "        arr[pos] = 0\n",
    "    ind += 1    \n",
    "\n",
    "print arr"
   ]
  },
  {
   "cell_type": "markdown",
   "metadata": {},
   "source": [
    "***\n",
    "### 1. Agregar elementos en un array\n",
    "\n",
    "#### numpy.append\n",
    "\n",
    "> `numpy.append(arr, values, axis=None)`\n",
    "\n",
    ">Agrega elementos al final de un array a lo largo del eje establecido por axis. Si axis no se especifica (axis = None), se agregan elementos a una version unidimensional del array. Los valores a agregar tienen que tener la forma correcta. Esta función **retorna un array** con los elementos agregados\n",
    "\n",
    ">- *arr*: Array de entrada\n",
    ">- *values*: Valores a agregar. Array con las mismas dimensiones que arr (excepto en eje donde se agregan los datos).\n",
    ">- *axis*: Eje donde se agregarán los valores"
   ]
  },
  {
   "cell_type": "code",
   "execution_count": null,
   "metadata": {},
   "outputs": [],
   "source": [
    "# Crea un array de (4, 3) con numeros consecutivos\n",
    "# Imprime el array y sus dimensiones\n",
    "arr = np.arange(12).reshape((4,3))\n",
    "print arr\n",
    "print arr.shape"
   ]
  },
  {
   "cell_type": "code",
   "execution_count": null,
   "metadata": {},
   "outputs": [],
   "source": [
    "# Añade los valores [5, 5, 5] al final del array sin especificar el eje\n",
    "# Imprime el array resultante\n",
    "valores = np.array([5, 5, 5])\n",
    "res = np.append(arr, valores)\n",
    "print res"
   ]
  },
  {
   "cell_type": "code",
   "execution_count": null,
   "metadata": {},
   "outputs": [],
   "source": [
    "# Añade los valores [5, 5, 5] al final del array especificando el eje 0\n",
    "# Ten en cuenta que las dimensiones deben de ser compatibles\n",
    "# Imprime el array resultante\n",
    "valores = np.array([5, 5, 5]).reshape(1, 3)\n",
    "res = np.append(arr, valores, axis=0)\n",
    "print res"
   ]
  },
  {
   "cell_type": "code",
   "execution_count": null,
   "metadata": {},
   "outputs": [],
   "source": [
    "# Añade los valores [5, 5, 5, 5] al final del array especificando el eje 1\n",
    "# Ten en cuenta que las dimensiones deben de ser compatibles\n",
    "# Imprime el array resultante\n",
    "valores = np.array([5, 5, 5, 5]).reshape(4, 1)\n",
    "res = np.append(arr, valores, axis=1)\n",
    "print res"
   ]
  },
  {
   "cell_type": "markdown",
   "metadata": {},
   "source": [
    "***\n",
    "### 2. Insertar elementos en un array\n",
    "#### numpy.insert\n",
    ">`numpy.insert(arr, obj, values, axis=None)`\n",
    "\n",
    ">Inserta elementos en una posición concreta de un array (especificada por obj) en el eje establecido por axis. Si axis no se especifica (axis = None), se insertan elementos a una version unidimensional del array. Los valores a agregar tienen que tener la forma correcta. Esta función **retorna un array** con los elementos insertados\n",
    ">- *arr*: Array de entrada\n",
    ">- *obj*: Objeto que especifica el índice antes del cual los elementos de values van a ser insertados<\n",
    ">- *values*: Valores a insertar. Debe de ser un array con las **mismas dimensiones que arr**. Las dimensiones de los valores a insertar deben de ser correctas.\n",
    ">- *axis*: Eje donde se agregarán los valores"
   ]
  },
  {
   "cell_type": "code",
   "execution_count": null,
   "metadata": {},
   "outputs": [],
   "source": [
    "# Crea un array de (2, 7) con numeros consecutivos\n",
    "# Imprime el array y sus dimensiones\n",
    "arr = np.arange(14).reshape((2, 7))\n",
    "print arr\n",
    "print arr.shape"
   ]
  },
  {
   "cell_type": "code",
   "execution_count": null,
   "metadata": {},
   "outputs": [],
   "source": [
    "# Inserta dos columnas con valores de 88 y 99 despues de la 3ª columna\n",
    "# Imprime el resultado\n",
    "valores = np.array([88, 88, 99, 99]).reshape(2,2)\n",
    "res = np.insert(arr, 2, valores, axis=1)\n",
    "print res"
   ]
  },
  {
   "cell_type": "code",
   "execution_count": null,
   "metadata": {},
   "outputs": [],
   "source": [
    "# Inserta una fila con valores de 88 en la primera posición del array\n",
    "# Imprime el resultado\n",
    "valores = np.array([99]*7).reshape(1,7)\n",
    "res = np.insert(arr, 0, valores, axis=0)\n",
    "print res"
   ]
  },
  {
   "cell_type": "code",
   "execution_count": null,
   "metadata": {},
   "outputs": [],
   "source": [
    "# Inserta dos columnas con valores de 88 en la primera, tercera y quinta columna\n",
    "# Imprime el resultado\n",
    "valores = np.array([88, 88]).reshape(2, 1)\n",
    "res = np.insert(arr, (0, 2, 3), valores, axis = 1)\n",
    "print res"
   ]
  },
  {
   "cell_type": "markdown",
   "metadata": {},
   "source": [
    "***\n",
    "### 3. Eliminar elementos en un array\n",
    "#### numpy.delete\n",
    ">`numpy.delete(arr, obj, axis=None)`\n",
    "\n",
    ">Elimina elementos de un array de una posición concreta (especificada por obj) en el eje establecido por axis. Si axis no se especifica (axis = None), se insertan elementos a una version unidimensional del array. Esta función **retorna un array** con los elementos eliminados\n",
    "\n",
    ">- *arr*: Array de entrada\n",
    ">- *obj*: Objeto que especifica el índice antes del cual los elementos de values van a ser insertados\n",
    ">- *axis*: Eje donde se agregarán los valores"
   ]
  },
  {
   "cell_type": "code",
   "execution_count": null,
   "metadata": {},
   "outputs": [],
   "source": [
    "# Crea un array (4, 4) con enteros aleatorios de 0 a 10\n",
    "np.random.seed(1111)\n",
    "arr = np.random.randint(0, 10, (4,4))\n",
    "print arr"
   ]
  },
  {
   "cell_type": "code",
   "execution_count": null,
   "metadata": {},
   "outputs": [],
   "source": [
    "# Elimina la segunda columna\n",
    "# Imprime el array original y el array con la columna eliminada\n",
    "res = np.delete(arr, 1, axis = 1)\n",
    "print res\n",
    "print arr"
   ]
  },
  {
   "cell_type": "code",
   "execution_count": null,
   "metadata": {},
   "outputs": [],
   "source": [
    "# Elimina la tercera fila\n",
    "# Imprime el resultado\n",
    "res = np.delete(arr, 2, axis = 0)\n",
    "print res"
   ]
  },
  {
   "cell_type": "code",
   "execution_count": null,
   "metadata": {},
   "outputs": [],
   "source": [
    "# Elimina las filas 0 y 3\n",
    "# Imprime el resultado\n",
    "res = np.delete(arr, (0, 3), axis = 0)\n",
    "print res"
   ]
  },
  {
   "cell_type": "markdown",
   "metadata": {},
   "source": [
    "***\n",
    "### 4. Concatenar arrays\n",
    "#### numpy.concatenate\n",
    ">`numpy.concatenate((a1, a2, a3,...), axis=None)`\n",
    "\n",
    ">Concatena una secuencia de arrays a1, a2, a3 ... según el eje especificado por axis. Si no se especifica eje (axis = 0), la concatenación se hace para las versiones 1D de los arrays"
   ]
  },
  {
   "cell_type": "code",
   "execution_count": null,
   "metadata": {},
   "outputs": [],
   "source": [
    "# Crea un array de tipo entero con 10 coordenadas x e y aleatorias entre 0 y 100\n",
    "# Crea un segundo array de tipo entero con 10 valores de elevación entre 650 y 800\n",
    "# Concatena ambos arrays para tener un array de (10, 3)\n",
    "np.random.seed(12345)\n",
    "xy_values = np.random.randint(0, 100, (10,2))\n",
    "z_values = np.random.randint(650, 800, (10,1))\n",
    "datos = np.concatenate((xy_values, z_values), axis = 1)\n",
    "print datos"
   ]
  },
  {
   "cell_type": "code",
   "execution_count": null,
   "metadata": {},
   "outputs": [],
   "source": [
    "# Añade los dos siguientes datos al array anterior (usa concatenate)\n",
    "# dato --> [30, 40, 790]\n",
    "# dato --> [70, 20, 640]\n",
    "# Imprime el resultados\n",
    "dato1 = np.array([30, 40, 790]).reshape(1, 3)\n",
    "dato2 = np.array([70, 20, 640]).reshape(1, 3)\n",
    "res = np.concatenate((datos, dato1, dato2), axis = 0)\n",
    "print res"
   ]
  },
  {
   "cell_type": "markdown",
   "metadata": {},
   "source": [
    "***\n",
    "### 5. Unir arrays\n",
    "\n",
    "Para unir arrays tenemos varias funciones:\n",
    "\n",
    ">`numpy.stack((a1, a2, a3,...), axis=0)`\n",
    "\n",
    "> Une diferentes arrays a lo largo de un nuevo eje.\n",
    "\n",
    "***\n",
    ">`numpy.vstack((a1, a2, a3,...))`\n",
    "\n",
    ">Une diferentes arrays verticalmente. \n",
    "\n",
    "***\n",
    ">`numpy.hstack((a1, a2, a3,...))`\n",
    "\n",
    "> Une diferentes arrays horizontalmente"
   ]
  },
  {
   "cell_type": "code",
   "execution_count": null,
   "metadata": {},
   "outputs": [],
   "source": [
    "# Crea tres arrays de (4, 4) con valores de 1, 2 y 3\n",
    "# Une los tres arrays en un array de tres dimensiones\n",
    "# Imprime el resultado y sus dimensiones\n",
    "arr1 = np.ones((4,4))\n",
    "arr2 = np.ones((4,4))\n",
    "arr3 = np.ones((4,4))\n",
    "arr1.fill(1)\n",
    "arr2.fill(2)\n",
    "arr3.fill(3)\n",
    "\n",
    "res = np.stack((arr1, arr2, arr3), axis=0)\n",
    "print res\n",
    "print res.shape"
   ]
  },
  {
   "cell_type": "code",
   "execution_count": null,
   "metadata": {},
   "outputs": [],
   "source": [
    "# Une los tres arrays verticalmente\n",
    "# Imprime el resultado\n",
    "res = np.vstack((arr1, arr2, arr3))\n",
    "print res"
   ]
  },
  {
   "cell_type": "code",
   "execution_count": null,
   "metadata": {},
   "outputs": [],
   "source": [
    "# Une los tres arrays horizontalmente\n",
    "# Imprime el resultado\n",
    "res = np.hstack((arr1, arr2, arr3))\n",
    "print res"
   ]
  }
 ],
 "metadata": {
  "kernelspec": {
   "display_name": "Python 2",
   "language": "python",
   "name": "python2"
  },
  "language_info": {
   "codemirror_mode": {
    "name": "ipython",
    "version": 2
   },
   "file_extension": ".py",
   "mimetype": "text/x-python",
   "name": "python",
   "nbconvert_exporter": "python",
   "pygments_lexer": "ipython2",
   "version": "2.7.10"
  }
 },
 "nbformat": 4,
 "nbformat_minor": 1
}
