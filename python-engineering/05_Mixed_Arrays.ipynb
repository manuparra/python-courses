{
 "cells": [
  {
   "cell_type": "markdown",
   "metadata": {},
   "source": [
    "## Arrays de tipos mixtos\n",
    "\n",
    "Es posible crear arrays de tipos mixtos, especificando una lista con tipos y nombres"
   ]
  },
  {
   "cell_type": "code",
   "execution_count": 1,
   "metadata": {
    "collapsed": true
   },
   "outputs": [],
   "source": [
    "# Importamos los módulos necesarios\n",
    "import numpy as np\n",
    "import matplotlib.pyplot as plt\n",
    "%matplotlib inline"
   ]
  },
  {
   "cell_type": "code",
   "execution_count": 2,
   "metadata": {},
   "outputs": [
    {
     "name": "stdout",
     "output_type": "stream",
     "text": [
      "[('nombre', 'S9'), ('entero', '<i4'), ('decimal', '<f8')]\n"
     ]
    }
   ],
   "source": [
    "# Crea una lista con 10 tuplas (nombre, numero_entero, numero_decimal)\n",
    "# Creamos un array de tipos mixtos especificando los nombres de los campos y los tipos\n",
    "# Imprime el tipo del array\n",
    "nombres = np.loadtxt(\"data/50_nombres.txt\", dtype=\"str\")\n",
    "lista = [(np.random.choice(nombres), np.random.randint(10), np.random.random()*10) for n in range(10)]\n",
    "\n",
    "tipos = [(\"nombre\", \"|S9\"), ('entero', \"int\"), ('decimal', \"float\")]\n",
    "arr = np.array(lista, dtype=tipos)\n",
    "print arr.dtype"
   ]
  },
  {
   "cell_type": "code",
   "execution_count": 3,
   "metadata": {},
   "outputs": [
    {
     "name": "stdout",
     "output_type": "stream",
     "text": [
      "('nombre', 'entero', 'decimal')\n"
     ]
    }
   ],
   "source": [
    "# Para obtener los nombres de los campos lo haremos con array.dtype.names\n",
    "print arr.dtype.names"
   ]
  },
  {
   "cell_type": "code",
   "execution_count": 4,
   "metadata": {},
   "outputs": [
    {
     "name": "stdout",
     "output_type": "stream",
     "text": [
      "[4 2 8 6 7 8 7 7 8 1]\n",
      "int32\n"
     ]
    }
   ],
   "source": [
    "# Podemos obtener los valores de cualquier campo mediante indexando con su nombre\n",
    "res = arr['entero']\n",
    "print res\n",
    "print res.dtype"
   ]
  },
  {
   "cell_type": "markdown",
   "metadata": {},
   "source": [
    "***\n",
    "### Función genfromtxt\n",
    "\n",
    "Además de las funciones de numpy para guardar-cargar el contenido de arrays en archivos, numpy tiene la función genfromtxt, que proporciona una manera más avanzada para leer archivos de datos en formato texto\n",
    "\n",
    ">`numpy.genfromtxt(fname, dtype='float', comments='#', delimiter=None, skip_header=0, skip_footer=0, converters=None, missing_values=None, filling_values=None, usecols=None, names=None, excludelist=None, deletechars=None, replace_space='_', autostrip=False, case_sensitive=True, defaultfmt='f%i', unpack=None, usemask=False, loose=True, invalid_raise=True, max_rows=None)`\n",
    "\n",
    "> Argumentos más importantes:\n",
    "\n",
    "> - *fname* : objeto fichero o cadena de texto con ruta de archivo\n",
    "> - *dtype*: tipo de dato del array de salida, si se le da None, los tipos serán determinados según los contenidos de cada columna.\n",
    "> - *delimiter*: caráter separador de columnas. También acepta un entero o lista de enteros como anchos para cada campo\n",
    "> - *names*: (None, True, str, sequence) Nombres para identificar las columnas. Si es True, los nombres se leen de la primera línea tras skip_header. Si no se especifica y el resultado es un array de tipos mixto, los nombres de los campos serán \"f0\", \"f1\", \"f2\", ..., \"fn\"\n",
    "\n",
    "> Otros argumentos:\n",
    "\n",
    "> - *comments*: carácter para las lineas que contengan comentarios (# por defecto).\n",
    "> - *skip_header*: número de líneas que se saltaran al comienzo del fichero\n",
    "> - *skip_footer*: número de líneas que se saltaran al comienzo del fichero\n",
    "> - *missing_values*: conjunto de cadenas para representar valores perdidos\n",
    "> - *filling_values*: conjunto de valores para utilizar cuando haya datos perdidos\n",
    "> - *usecols*: tupla con las columnas a leer (por si solo queremos leer algunas columnas)\n",
    "> - *excludelist*: lista con nombres a excluir\n",
    "> - *deletechars*: cadena de texto con carácters a eliminar de los nombres\n",
    "> - *autostrip*: boleano que indica si quitar espacios en blanco de los valores (True) o no (False)\n",
    "\n",
    "> Si utilizamos está función y especificamos dtype = None y usecols =True, se genera un ndarray de tipos mixto."
   ]
  },
  {
   "cell_type": "code",
   "execution_count": 7,
   "metadata": {},
   "outputs": [
    {
     "name": "stdout",
     "output_type": "stream",
     "text": [
      "('Provincia', 'Municipio', 'Area', 'POB_2011', 'POB_2010', 'POB_2009', 'POB_2008', 'POB_2007', 'POB_2006', 'POB_2005', 'POB_2004', 'POB_2003', 'POB_2002', 'POB_2001', 'POB_2000')\n"
     ]
    }
   ],
   "source": [
    "# Lee los datos del archivo \"data/muni_andalucia.csv\"\n",
    "# La primera fila contiene los nombres de los campos, y las columnas están separadas por \";\"\n",
    "# Obten un array de tipos mixtos con nombres\n",
    "# Imprime los nombres de los campos\n",
    "arr = np.genfromtxt(\"data/muni_andalucia.csv\", delimiter = \";\", dtype = None, names = True)\n",
    "print arr.dtype.names"
   ]
  },
  {
   "cell_type": "code",
   "execution_count": 8,
   "metadata": {},
   "outputs": [
    {
     "name": "stdout",
     "output_type": "stream",
     "text": [
      "[  9.65000000e+02   2.88800000e+03  -1.87000000e+02  -2.60000000e+01\n",
      "  -1.00000000e+00   2.12000000e+02   3.40000000e+01   7.54000000e+02\n",
      "  -1.39000000e+02   9.30000000e+02]\n"
     ]
    }
   ],
   "source": [
    "# Calcula el cambio de población del año 2000 a 2010\n",
    "# Guarda el resultado en un nuevo array\n",
    "# Imprime los 10 primeros elementos del array resultante\n",
    "cambios = arr['POB_2010'] -  arr['POB_2000']\n",
    "print cambios[:10]"
   ]
  }
 ],
 "metadata": {
  "kernelspec": {
   "display_name": "Python 2",
   "language": "python",
   "name": "python2"
  },
  "language_info": {
   "codemirror_mode": {
    "name": "ipython",
    "version": 2
   },
   "file_extension": ".py",
   "mimetype": "text/x-python",
   "name": "python",
   "nbconvert_exporter": "python",
   "pygments_lexer": "ipython2",
   "version": "2.7.10"
  }
 },
 "nbformat": 4,
 "nbformat_minor": 1
}
