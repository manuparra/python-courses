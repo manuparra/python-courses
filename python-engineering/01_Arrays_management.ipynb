{
 "cells": [
  {
   "cell_type": "markdown",
   "metadata": {},
   "source": [
    "## Creación de arrays de numpy\n",
    "\n",
    "Existen 4 formas principales para crear arrays de numpy:\n",
    "\n",
    "1. A partir de secuencias de Python (listas o tuplas)\n",
    "2. Utilizando funciones propias de numpy\n",
    "3. Leyendo el array de un archivo\n",
    "4. Copiando los datos desde otro array"
   ]
  },
  {
   "cell_type": "code",
   "execution_count": 1,
   "metadata": {
    "collapsed": true
   },
   "outputs": [],
   "source": [
    "#Importamos los módulos necesarios\n",
    "import numpy as np\n",
    "import matplotlib.pyplot as plt\n",
    "%matplotlib inline"
   ]
  },
  {
   "cell_type": "markdown",
   "metadata": {},
   "source": [
    "***\n",
    "### 1. Creación de un array a partir de una secuencia (lista, tupla)\n",
    "\n",
    "#### numpy.array\n",
    "> `numpy.array(secuencia, dtype = None)`\n",
    "> - *secuencia*: lista o tupla a partir de la cual crearemos el array\n",
    "> - *dtype*: tipo de dato del array"
   ]
  },
  {
   "cell_type": "code",
   "execution_count": 2,
   "metadata": {
    "collapsed": false
   },
   "outputs": [
    {
     "name": "stdout",
     "output_type": "stream",
     "text": [
      "[]\n",
      "0\n",
      "float64\n"
     ]
    }
   ],
   "source": [
    "# Crea un array vacio a partir de una lista vacia\n",
    "# Imprime el array, su número de elementos y su tipo\n",
    "arr = np.array([])\n",
    "print arr\n",
    "print arr.size\n",
    "print arr.dtype"
   ]
  },
  {
   "cell_type": "code",
   "execution_count": 3,
   "metadata": {
    "collapsed": false
   },
   "outputs": [
    {
     "name": "stdout",
     "output_type": "stream",
     "text": [
      "[ 2 45  6 77  8]\n",
      "int32\n"
     ]
    }
   ],
   "source": [
    "# Crea un array a partir de una lista\n",
    "# Imprime el array y su tipo\n",
    "mi_lista = [2, 45, 6, 77, 8]\n",
    "arr = np.array(mi_lista)\n",
    "print arr\n",
    "print arr.dtype"
   ]
  },
  {
   "cell_type": "code",
   "execution_count": 4,
   "metadata": {
    "collapsed": false
   },
   "outputs": [
    {
     "name": "stdout",
     "output_type": "stream",
     "text": [
      "[  2.  45.   6.  77.   8.]\n",
      "float32\n"
     ]
    }
   ],
   "source": [
    "# Crea un array de tipo float32 a partir de la lista anterior\n",
    "# Imprime el array y su tipo\n",
    "arr = np.array(mi_lista, dtype=\"float32\")\n",
    "print arr\n",
    "print arr.dtype"
   ]
  },
  {
   "cell_type": "code",
   "execution_count": 5,
   "metadata": {
    "collapsed": false
   },
   "outputs": [
    {
     "name": "stdout",
     "output_type": "stream",
     "text": [
      "[  23.   45.   33.   45.  257.]\n",
      "float64\n"
     ]
    }
   ],
   "source": [
    "# Crea un array a partir de una tupla\n",
    "# Imprime el array y su tipo\n",
    "mi_tupla = (23, 45., 33, 45., 257)\n",
    "arr = np.array(mi_tupla)\n",
    "print arr\n",
    "print arr.dtype"
   ]
  },
  {
   "cell_type": "code",
   "execution_count": 6,
   "metadata": {
    "collapsed": false
   },
   "outputs": [
    {
     "name": "stdout",
     "output_type": "stream",
     "text": [
      "[23 45 33 45  1]\n",
      "int8\n"
     ]
    }
   ],
   "source": [
    "# Crea un array de tipo int8 a partir de la tupla anterior\n",
    "# Imprime el array y su tipo ¿Notas algo raro?\n",
    "arr = np.array(mi_tupla, dtype=\"int8\")\n",
    "print arr\n",
    "print arr.dtype"
   ]
  },
  {
   "cell_type": "code",
   "execution_count": 7,
   "metadata": {
    "collapsed": false
   },
   "outputs": [
    {
     "name": "stdout",
     "output_type": "stream",
     "text": [
      "['Vicente' 'German' 'Almudena' 'Sofia'] |S8\n",
      "['Vicen' 'Germa' 'Almud' 'Sofia'] |S5\n"
     ]
    }
   ],
   "source": [
    "# Crea un array a partir de lista_nombres\n",
    "# Crea un segundo array de tipo cadena de 5 caracteres a partir de lista_nombres\n",
    "# Imprime ambos arrays y sus tipos\n",
    "lista_nombres = [\"Vicente\", \"German\", \"Almudena\", \"Sofia\"]\n",
    "arr = np.array(lista_nombres)\n",
    "arr2 = np.array(lista_nombres, dtype=\"|S5\")\n",
    "print arr, arr.dtype\n",
    "print arr2, arr2.dtype"
   ]
  },
  {
   "cell_type": "code",
   "execution_count": 8,
   "metadata": {
    "collapsed": false
   },
   "outputs": [
    {
     "name": "stdout",
     "output_type": "stream",
     "text": [
      "[[2 3 4]\n",
      " [4 6 7]\n",
      " [4 9 8]]\n",
      "int32\n"
     ]
    }
   ],
   "source": [
    "# Crea un array de dos dimensiones a partir de una \"lista de listas\"\n",
    "# Imprime el array y sus dimensiones\n",
    "lista_2d = [[2, 3, 4], [4, 6, 7], [4, 9, 8]]\n",
    "arr = np.array(lista_2d)\n",
    "print arr\n",
    "print arr.dtype"
   ]
  },
  {
   "cell_type": "markdown",
   "metadata": {},
   "source": [
    "***\n",
    "### 2. Creación de un array utilizando funciones de numpy\n",
    "\n",
    "#### numpy.arange\n",
    "\n",
    ">`numpy.arange([start], stop, [,step], dtype = None)`\n",
    "\n",
    "> Crea un array unidimensional con una secuencia de datos en el intervalo [start, stop)\n",
    ">- *start*: Comienzo del intervalo (incluido)\n",
    ">- *stop*: Fin del intervalo (no incluido). Si solo se especifica stop, el intervalo será [0, stop)\n",
    ">- *step*: Intervalo entre valores. Puede ser decimal (novedad respecto a range())\n",
    ">- *dtype*: Tipo de dato del array"
   ]
  },
  {
   "cell_type": "code",
   "execution_count": 9,
   "metadata": {
    "collapsed": false
   },
   "outputs": [
    {
     "name": "stdout",
     "output_type": "stream",
     "text": [
      "[0 1 2 3 4 5 6 7 8 9]\n",
      "10\n"
     ]
    }
   ],
   "source": [
    "# Crea un array de 10 elementos entre [0,9)\n",
    "# Imprime el array y su número de elementos\n",
    "arr = np.arange(10)\n",
    "print arr\n",
    "print arr.size"
   ]
  },
  {
   "cell_type": "code",
   "execution_count": 10,
   "metadata": {
    "collapsed": false
   },
   "outputs": [
    {
     "name": "stdout",
     "output_type": "stream",
     "text": [
      "[ 0.   0.1  0.2  0.3  0.4  0.5  0.6  0.7  0.8  0.9]\n",
      "10\n"
     ]
    }
   ],
   "source": [
    "# Crea un array de 10 elementos entre [0, 1) con paso de 0.1\n",
    "# Imprime el array y su número de elementos\n",
    "arr = np.arange(0, 1, 0.1)\n",
    "print arr\n",
    "print arr.size"
   ]
  },
  {
   "cell_type": "code",
   "execution_count": 11,
   "metadata": {
    "collapsed": false
   },
   "outputs": [
    {
     "name": "stdout",
     "output_type": "stream",
     "text": [
      "[ 2.          2.11764706  2.23529412  2.35294118  2.47058824  2.58823529\n",
      "  2.70588235  2.82352941  2.94117647  3.05882353  3.17647059  3.29411765\n",
      "  3.41176471  3.52941176  3.64705882  3.76470588  3.88235294]\n",
      "17\n"
     ]
    }
   ],
   "source": [
    "# Crea un array de 17 elementos entre [2, 4)\n",
    "# Imprime el array y su número de elementos\n",
    "start = 2\n",
    "stop = 4\n",
    "step = (stop - start) / 17.\n",
    "arr = np.arange(start, stop, step)\n",
    "print arr\n",
    "print arr.size"
   ]
  },
  {
   "cell_type": "markdown",
   "metadata": {},
   "source": [
    "---\n",
    "#### numpy.linspace\n",
    ">`numpy.linspace(start, stop, num = 50, endpoint = True, retstep = False, dtype = None)`\n",
    "\n",
    "> Crea un array unidimensional con n valores espaciados en el intervalo [start, stop]\n",
    "\n",
    ">- *start* : Comienzo del intervalo (incluido) \n",
    ">- *stop*: Fin del intervalo (incluido por defecto) \n",
    ">- *num*: Número de valores en el intervalo (50 por defecto) \n",
    ">- *endpoint*: Especifica si extremo final de intervalo se incluye en secuencia (True por defecto)\n",
    ">- *retstep*: Especifica si se devuelve también el espaciado junto con el array \n",
    ">- *dtype*: tipo de dato del array"
   ]
  },
  {
   "cell_type": "code",
   "execution_count": 12,
   "metadata": {
    "collapsed": false
   },
   "outputs": [
    {
     "name": "stdout",
     "output_type": "stream",
     "text": [
      "[ 0.          0.02040816  0.04081633  0.06122449  0.08163265  0.10204082\n",
      "  0.12244898  0.14285714  0.16326531  0.18367347  0.20408163  0.2244898\n",
      "  0.24489796  0.26530612  0.28571429  0.30612245  0.32653061  0.34693878\n",
      "  0.36734694  0.3877551   0.40816327  0.42857143  0.44897959  0.46938776\n",
      "  0.48979592  0.51020408  0.53061224  0.55102041  0.57142857  0.59183673\n",
      "  0.6122449   0.63265306  0.65306122  0.67346939  0.69387755  0.71428571\n",
      "  0.73469388  0.75510204  0.7755102   0.79591837  0.81632653  0.83673469\n",
      "  0.85714286  0.87755102  0.89795918  0.91836735  0.93877551  0.95918367\n",
      "  0.97959184  1.        ]\n",
      "50\n"
     ]
    }
   ],
   "source": [
    "# Crea un array con 50 valores espaciados uniformemente entre [0,1]\n",
    "# Imprime el array y su número de elementos\n",
    "arr = np.linspace(0, 1)\n",
    "print arr\n",
    "print arr.size"
   ]
  },
  {
   "cell_type": "code",
   "execution_count": 13,
   "metadata": {
    "collapsed": false
   },
   "outputs": [
    {
     "name": "stdout",
     "output_type": "stream",
     "text": [
      "[ 0.   0.4  0.8  1.2  1.6  2.   2.4  2.8  3.2  3.6  4.   4.4  4.8  5.2  5.6\n",
      "  6.   6.4  6.8  7.2  7.6  8.   8.4  8.8  9.2  9.6]\n",
      "25\n"
     ]
    }
   ],
   "source": [
    "# Crea un array de 25 valores espaciados entre [0, 10)\n",
    "# Imprime el array y su número de elementos\n",
    "arr = np.linspace(0, 10, num=25, endpoint=False)\n",
    "print arr\n",
    "print arr.size"
   ]
  },
  {
   "cell_type": "code",
   "execution_count": 14,
   "metadata": {
    "collapsed": false
   },
   "outputs": [
    {
     "name": "stdout",
     "output_type": "stream",
     "text": [
      "[ 0.          0.21666156  0.43332312  0.64998469  0.86664625  1.08330781\n",
      "  1.29996937  1.51663094  1.7332925   1.94995406  2.16661562  2.38327719\n",
      "  2.59993875  2.81660031  3.03326187  3.24992343  3.466585    3.68324656\n",
      "  3.89990812  4.11656968  4.33323125  4.54989281  4.76655437  4.98321593\n",
      "  5.1998775   5.41653906  5.63320062  5.84986218  6.06652374  6.28318531]\n",
      "30\n"
     ]
    }
   ],
   "source": [
    "# Crea un array con 30 valores espaciados entre [0, 2pi]\n",
    "# Imprime el array y su número de elementos\n",
    "# numpy incluye la constante pi --> np.pi\n",
    "arr = np.linspace(0, 2 * np.pi, num=30)\n",
    "print arr\n",
    "print arr.size"
   ]
  },
  {
   "cell_type": "code",
   "execution_count": 15,
   "metadata": {
    "collapsed": false
   },
   "outputs": [
    {
     "name": "stdout",
     "output_type": "stream",
     "text": [
      "[ 2.          2.11764706  2.23529412  2.35294118  2.47058824  2.58823529\n",
      "  2.70588235  2.82352941  2.94117647  3.05882353  3.17647059  3.29411765\n",
      "  3.41176471  3.52941176  3.64705882  3.76470588  3.88235294]\n",
      "0.117647058824\n",
      "17\n"
     ]
    }
   ],
   "source": [
    "# Crea un array de 17 elementos espaciados entre [2, 4)\n",
    "# Imprime el array, el espaciado y su número de elementos\n",
    "arr, step = np.linspace(2, 4, num=17, endpoint=False, retstep=True)\n",
    "print arr\n",
    "print step\n",
    "print arr.size"
   ]
  },
  {
   "cell_type": "markdown",
   "metadata": {},
   "source": [
    "---\n",
    "#### numpy.logspace\n",
    ">`numpy.logspace(start, stop, num = 50, endpoint = True, base = 10.0, dtype = None)`\n",
    "\n",
    "> Crea un array unidimensional con n valores espaciados logatirmicamente entre $[base^{start}, base^{stop}]$\n",
    "\n",
    ">- *start*: Comienzo del intervalo $(base^{start})$\n",
    ">- *stop*: Fin del intervalo  $(base^{stop})$\n",
    ">- *num*:  Número de valores en el intervalo (50 por defecto)\n",
    ">- *endpoint*: Especifica si extremo final de intervalo se incluye en secuencia (True por defecto)\n",
    ">- *base*: Base logarítmica (10.0 por defecto)\n",
    ">- *dtype*: tipo de dato del array"
   ]
  },
  {
   "cell_type": "code",
   "execution_count": 16,
   "metadata": {
    "collapsed": false
   },
   "outputs": [
    {
     "name": "stdout",
     "output_type": "stream",
     "text": [
      "[   1.            1.21152766    1.46779927    1.77827941    2.15443469\n",
      "    2.61015722    3.16227766    3.83118685    4.64158883    5.62341325\n",
      "    6.81292069    8.25404185   10.           12.11527659   14.67799268\n",
      "   17.7827941    21.5443469    26.10157216   31.6227766    38.3118685\n",
      "   46.41588834   56.23413252   68.12920691   82.54041853  100.        ]\n"
     ]
    }
   ],
   "source": [
    "# Crea un array con 25 valores espaciados logaritmicamente entre [0, 100]\n",
    "# Imprime el array\n",
    "arr = np.logspace(0, 2, num=25)\n",
    "print arr"
   ]
  },
  {
   "cell_type": "code",
   "execution_count": 17,
   "metadata": {
    "collapsed": false
   },
   "outputs": [
    {
     "name": "stdout",
     "output_type": "stream",
     "text": [
      "[  1.           1.17351087   1.37712776   1.6160744    1.89648088\n",
      "   2.22554093   2.61169647   3.0648542    3.59663973   4.22069582\n",
      "   4.95303242   5.81243739   6.82095847   8.00446891   9.39333129\n",
      "  11.02317638  12.93581732  15.18032224  17.81427318  20.90524324\n",
      "  24.5325302   28.78919088  33.78442846  39.64639407  46.52547444]\n",
      "25\n"
     ]
    }
   ],
   "source": [
    "# Crea 25 valores espaciados logaritmicamente en base \"e\" entre [0, e^4)\n",
    "# Imprime el array y su numero de elementos\n",
    "arr = np.logspace(0, 4, num=25, endpoint=False, base=np.e)\n",
    "print arr\n",
    "print arr.size"
   ]
  },
  {
   "cell_type": "code",
   "execution_count": 18,
   "metadata": {
    "collapsed": false
   },
   "outputs": [
    {
     "data": {
      "image/png": "[encoded data removed]",
      "text/plain": [
       "<matplotlib.figure.Figure at 0x7741630>"
      ]
     },
     "metadata": {},
     "output_type": "display_data"
    }
   ],
   "source": [
    "# Crea 30 valores espaciados logaritmicamente entre [100, 10000]\n",
    "arr = np.logspace(2, 4, num=30)\n",
    "\n",
    "# Vamos a representar el array (no cambies este código, veremos matplotlib mas adelante)\n",
    "fig = plt.figure(figsize=(16,4))\n",
    "scales = [\"normal\", \"log\"]\n",
    "titles = [u\"Escala normal\", u\"Escala logaritmica\"]\n",
    "y = np.ones(arr.size)\n",
    "y.fill(5)\n",
    "for n in range(2):\n",
    "    ax = fig.add_subplot(1,2,n+1)\n",
    "    ax.plot(arr,y, \"ro\")\n",
    "    if scales[n]==\"log\":\n",
    "        ax.set_xscale(scales[n])\n",
    "    ax.set_title(titles[n])\n"
   ]
  },
  {
   "cell_type": "markdown",
   "metadata": {},
   "source": [
    "---\n",
    "#### numpy.zeros  /  numpy.ones  /  numpy.empty\n",
    ">`numpy.zeros(shape, dtype = None)\n",
    "numpy.ones(shape, dtype = None)\n",
    "numpy.empty(shape, dtype = None)`\n",
    "\n",
    "> Estas 3 funciones crean arrays n-dimensionales con valores fijos\n",
    ">- *shape*: Tupla o lista con las dimensiones del array\n",
    ">- *dtype*: Tipo de datos del array\n",
    "\n",
    "> numpy.empty() crea un array con unas dimensiones específicas pero no inicializa sus valores (es ligeramente más rapido). Para \"llenar\" un array con el mismo valor podemos utilizar el método **fill** del propio array"
   ]
  },
  {
   "cell_type": "code",
   "execution_count": 19,
   "metadata": {
    "collapsed": false
   },
   "outputs": [
    {
     "name": "stdout",
     "output_type": "stream",
     "text": [
      "[ 1.  1.  1.  1.  1.  1.  1.  1.  1.  1.]\n",
      "float64\n"
     ]
    }
   ],
   "source": [
    "# Crea un array unidimensional de \"unos\" con 10 elementos\n",
    "# Imprime el array y su tipo\n",
    "arr = np.ones(10)\n",
    "print arr\n",
    "print arr.dtype"
   ]
  },
  {
   "cell_type": "code",
   "execution_count": 20,
   "metadata": {
    "collapsed": false
   },
   "outputs": [
    {
     "name": "stdout",
     "output_type": "stream",
     "text": [
      "[[1 1 1 1 1 1 1]\n",
      " [1 1 1 1 1 1 1]\n",
      " [1 1 1 1 1 1 1]]\n",
      "int16\n"
     ]
    }
   ],
   "source": [
    "# Crea un array de tipo entero de 16 bits de 3x7 con \"unos\"\n",
    "# Imprime el array y su tipo\n",
    "arr = np.ones((3, 7), dtype=\"int16\")\n",
    "print arr\n",
    "print arr.dtype"
   ]
  },
  {
   "cell_type": "code",
   "execution_count": 21,
   "metadata": {
    "collapsed": false
   },
   "outputs": [
    {
     "name": "stdout",
     "output_type": "stream",
     "text": [
      "[[0 0 0 0 0 0 0 0 0 0 0 0 0 0]\n",
      " [0 0 0 0 0 0 0 0 0 0 0 0 0 0]]\n",
      "int8\n"
     ]
    }
   ],
   "source": [
    "# Crea un array de tipo entero de 8 bits 2x14 con \"ceros\"\n",
    "# Imprime el array y su tipo\n",
    "arr = np.zeros((2,14), dtype=\"int8\")\n",
    "print arr\n",
    "print arr.dtype"
   ]
  },
  {
   "cell_type": "code",
   "execution_count": 22,
   "metadata": {
    "collapsed": false
   },
   "outputs": [
    {
     "name": "stdout",
     "output_type": "stream",
     "text": [
      "[[[ 0.  0.  0.  0.  0.  0.]\n",
      "  [ 0.  0.  0.  0.  0.  0.]\n",
      "  [ 0.  0.  0.  0.  0.  0.]]\n",
      "\n",
      " [[ 0.  0.  0.  0.  0.  0.]\n",
      "  [ 0.  0.  0.  0.  0.  0.]\n",
      "  [ 0.  0.  0.  0.  0.  0.]]]\n",
      "(2L, 3L, 6L)\n"
     ]
    }
   ],
   "source": [
    "# Crea un array de tres dimensiones (2,3,6) con \"ceros\"\n",
    "# Imprime el array y sus dimensiones\n",
    "arr = np.zeros((2, 3, 6))\n",
    "print arr\n",
    "print arr.shape"
   ]
  },
  {
   "cell_type": "code",
   "execution_count": 23,
   "metadata": {
    "collapsed": false
   },
   "outputs": [
    {
     "name": "stdout",
     "output_type": "stream",
     "text": [
      "[5 5 5 5 5 5 5 5 5 5 5 5 5 5 5 5 5 5 5 5]\n",
      "int32\n"
     ]
    }
   ],
   "source": [
    "# Crea un array de 20 elementos de tipo entero de 8 bits con valores de 25\n",
    "# Imprime el array y su tipo\n",
    "arr = np.empty(20, dtype=\"int\")\n",
    "arr.fill(5)\n",
    "print arr\n",
    "print arr.dtype"
   ]
  },
  {
   "cell_type": "markdown",
   "metadata": {
    "collapsed": true
   },
   "source": [
    "### Funciones del módulo random\n",
    "#### numpy.random.random\n",
    "> `numpy.random.random(size = None)`\n",
    "\n",
    "> Genera números aleatorios decimales en el intervalo abierto [ 0.0, 1.0 )\n",
    "> - *size*: Tupla o lista con las dimensiones del array</li>\n",
    "\n",
    ">Si queremos generar número aleatorios en el intervalo [a, b) utlizaremos:\n",
    "\n",
    ">`(b-a) * np.random.random(...) + a `\n"
   ]
  },
  {
   "cell_type": "code",
   "execution_count": 24,
   "metadata": {
    "collapsed": false
   },
   "outputs": [
    {
     "name": "stdout",
     "output_type": "stream",
     "text": [
      "[[ 0.00973361  0.30171445  0.42230251  0.18759088  0.26572138]\n",
      " [ 0.34104065  0.87883957  0.89421585  0.48593839  0.30449928]\n",
      " [ 0.6760095   0.081251    0.75226332  0.75150396  0.82690058]\n",
      " [ 0.65074926  0.35045389  0.04847601  0.59510646  0.22391685]\n",
      " [ 0.2169591   0.00786527  0.64589603  0.30945568  0.360112  ]]\n",
      "(5L, 5L)\n",
      "25\n"
     ]
    }
   ],
   "source": [
    "# Crea un array de 5x5 con valores aleatorios en el intervalo [0.0, 1.0)\n",
    "# Imprime el array, sus dimensiones y su número de elementos\n",
    "arr = np.random.random((5, 5))\n",
    "print arr\n",
    "print arr.shape\n",
    "print arr.size"
   ]
  },
  {
   "cell_type": "code",
   "execution_count": 25,
   "metadata": {
    "collapsed": false
   },
   "outputs": [
    {
     "name": "stdout",
     "output_type": "stream",
     "text": [
      "[  5.18520587  11.68617063   9.94758507   5.31867803   7.04391159\n",
      "   7.76989085   4.09320491   8.46434376  10.61425427   8.49754068\n",
      "   3.51224943   2.40677896   7.17020607   7.68171255   6.36633711\n",
      "   8.8352898    8.90108672   2.67572685   9.77024993   9.5116436 ]\n",
      "float64\n",
      "20\n"
     ]
    }
   ],
   "source": [
    "# Crea un array unidimensional decimal de 20 valores aleatorios en el intervalo [2.0, 12.0)\n",
    "# Imprime el array, su tipo y sus dimensiones\n",
    "a = 2\n",
    "b = 12\n",
    "arr = (b - a) * np.random.random(20) + a \n",
    "print arr\n",
    "print arr.dtype\n",
    "print arr.size"
   ]
  },
  {
   "cell_type": "markdown",
   "metadata": {},
   "source": [
    "***\n",
    "#### numpy.random.randint\n",
    "> `numpy.random.randint(low, high=None, size=None)`\n",
    "\n",
    "> Genera números aleatorios enteros en el intervalo abierto [low, high)\n",
    "> - *low*: Extremo inferior del intervalo (incluido)\n",
    "> - *high*: Extremo superior del intervalo (no incluido). Si no se especifica los valores serán [ 0, low )\n",
    "> - *size*: Tupla o lista con las dimensiones del array. Si es None, se genera un sólo número"
   ]
  },
  {
   "cell_type": "code",
   "execution_count": 26,
   "metadata": {
    "collapsed": false
   },
   "outputs": [
    {
     "name": "stdout",
     "output_type": "stream",
     "text": [
      "[3 2 0 6 9 6 6 9 9 7 3 4 1 0 9]\n",
      "15\n"
     ]
    }
   ],
   "source": [
    "# Crea un array con 15 números enteros aleatorios en el intervalo [0, 10)\n",
    "# Imprime el array y su número de elementos\n",
    "arr = np.random.randint(0, 10, 15)\n",
    "print arr\n",
    "print arr.size"
   ]
  },
  {
   "cell_type": "code",
   "execution_count": 27,
   "metadata": {
    "collapsed": false
   },
   "outputs": [
    {
     "name": "stdout",
     "output_type": "stream",
     "text": [
      "1 --> 16.7%\n",
      "2 --> 16.5%\n",
      "3 --> 17.1%\n",
      "4 --> 16.0%\n",
      "5 --> 17.0%\n",
      "6 --> 16.7%\n"
     ]
    }
   ],
   "source": [
    "# Crea un array que simule 10000 tiradas de un dado de 6 caras\n",
    "arr = np.random.randint(1, 7, 10000)\n",
    "\n",
    "# No modifiques el siquiente código, lo veremos más tarde\n",
    "for valor in np.unique(arr):\n",
    "    print \"{0} --> {1:.1f}%\".format(valor, (np.extract(arr==valor, arr).size/float(arr.size))*100)"
   ]
  },
  {
   "cell_type": "markdown",
   "metadata": {},
   "source": [
    "***\n",
    "#### numpy.random.randn\n",
    "> `numpy.random.radn(d0, d1, ..., dn)`\n",
    "\n",
    "> Genera números aleatorios con una distribución normal con $\\mu = 0$ y $\\sigma = 1$\n",
    "> - *d0, d1, ..., dn*: Dimensiones del array.\n",
    "\n",
    "> Si queremos generar una muestra de números aleatorios con media y desviación típica determinados:\n",
    "\n",
    "> `sigma * np.random.randn(...) + mu`"
   ]
  },
  {
   "cell_type": "code",
   "execution_count": 29,
   "metadata": {
    "collapsed": false
   },
   "outputs": [
    {
     "data": {
      "image/png": "[encoded data removed]",
      "text/plain": [
       "<matplotlib.figure.Figure at 0x7b08978>"
      ]
     },
     "metadata": {},
     "output_type": "display_data"
    }
   ],
   "source": [
    "# Crea un array de 5000 valores con una distribución normal de media 50 y desviación típica 10\n",
    "# Crea un segundo array con 5000 valores decimales aleatorios entre 20 y 80\n",
    "mu = 50\n",
    "sigma = 10\n",
    "arr1 = sigma * np.random.randn(5000) + mu\n",
    "arr2 = (80 - 20) * np.random.random(5000) + 20\n",
    "\n",
    "# Representamos ambos histograma (veremos este código más adelante)\n",
    "fig = plt.figure(figsize=(16,4))\n",
    "arrdata = [arr1, arr2]\n",
    "titles = [u\"Distribución normal aleatoria\", u\"Distribución aleatoria uniforme\"]\n",
    "for n in range(2):\n",
    "    ax = fig.add_subplot(1,2,n+1)\n",
    "    ax.hist(arrdata[n], bins=30, color=\"olive\", edgecolor=\"k\")\n",
    "    ax.set_xlim(20,80)\n",
    "    ax.set_ylim(0,600)\n",
    "    ax.set_xlabel(\"Valores\")\n",
    "    ax.set_ylabel(\"Frecuencia\")\n",
    "    ax.set_title(titles[n])\n",
    "    mu = np.mean(arrdata[n])\n",
    "    sigma = np.std(arrdata[n])\n",
    "    txt = \"$\\mu = {0:.3f}$\\n$\\sigma = {1:.3f}$\".format(mu, sigma)\n",
    "    xpos = ax.get_xlim()[1] - (ax.get_xlim()[1] - ax.get_xlim()[0]) * 0.25\n",
    "    ypos = ax.get_ylim()[1] - (ax.get_ylim()[1] - ax.get_ylim()[0]) * 0.20\n",
    "    ax.text(xpos, ypos, txt, size = 13)"
   ]
  },
  {
   "cell_type": "markdown",
   "metadata": {},
   "source": [
    "***\n",
    "#### numpy.random.choice\n",
    "> `numpy.random.choice(a, size=None, replace=True, p=None)`\n",
    "\n",
    "> Genera una muestra aleatoria a partir de una matriz dada. Esté método nos puede servir para obtener sub-muestras aleatorias de nuestros datos (método Monte Carlo)\n",
    "> - *a*: Array del del que vamos a extraer la muestra aleatoria\n",
    "> - *size*: Tupla o lista con las dimensiones de la muestra aleatoria\n",
    "> - *replace*: Especifica si se puede coger el mismo valor más de una vez. True por defecto\n",
    "> - *p*: Array con las probabilidades de escoger cada valor de a (debe tener las mismas dimensiones que a)"
   ]
  },
  {
   "cell_type": "code",
   "execution_count": 30,
   "metadata": {
    "collapsed": false
   },
   "outputs": [
    {
     "name": "stdout",
     "output_type": "stream",
     "text": [
      "[28 43 41 77 56 68  7 44 18 70 61  2 79 74 66 73 25 50 71 55 76 12  6 89 11]\n"
     ]
    }
   ],
   "source": [
    "# Genera una variable bolas que simule todas las bolas de un bingo (90 bolas -> [1, 90])\n",
    "# Simula que sacamos 25 bolas del bingo (no podemos sacar la misma bola dos veces)\n",
    "# Imprime las 25 bolas sacadas\n",
    "bolas = np.arange(1, 91)\n",
    "tirada = np.random.choice(bolas, 25, replace=False)\n",
    "print tirada"
   ]
  },
  {
   "cell_type": "code",
   "execution_count": 31,
   "metadata": {
    "collapsed": false
   },
   "outputs": [
    {
     "name": "stdout",
     "output_type": "stream",
     "text": [
      "Tirada normal:\n",
      "[55 46 67  5 38  1 45 35 31 63 17 24  4 78 88 57 54 42 86 85 56 16 49 20 33]\n",
      "====================\n",
      "Tirada trucada:\n",
      "[ 9  2 37 42 70 12  6  5 29 10 41 16 31 22 11 15 81 85 74 86 52 26 66 30  1]\n"
     ]
    }
   ],
   "source": [
    "# \"Truca\" el bingo para que los números 2, 5 y 10 \n",
    "# tengan una probabilidad de salir 10 veces mayor\n",
    "\n",
    "# Calcula la probabilidad de salir de cada bola\n",
    "prob_bola = 1./bolas.size\n",
    "\n",
    "# Crea una lista o array con los índices de la bolas trucadas\n",
    "bolas_trucadas = np.array([2, 5, 10])\n",
    "ind_bolas = bolas_trucadas - 1\n",
    "\n",
    "# Calcula la probabilidad de salir de las bolas trucadas (10 veces mayor que la normal)\n",
    "prob_trucada = prob_bola * 10\n",
    "\n",
    "# Calcula la probabilidad de salir de las demás bolas\n",
    "prob_demas = (1 - prob_trucada * bolas_trucadas.size) / (bolas.size - bolas_trucadas.size)\n",
    "\n",
    "# Crea un array vacio de probabilidades y llénalo con las probabilidades de las demás bolas\n",
    "# Modifica las posiciones de las bolas trucadas para darles su probabilidad mayor\n",
    "probs = np.empty(bolas.size)\n",
    "probs.fill(prob_demas)\n",
    "probs[ind_bolas] = prob_trucada\n",
    "\n",
    "# Asegurate que la suma de las probabilidades es 1\n",
    "if probs.sum() <> 1:\n",
    "    print \"Las probabilidades no suman 1, algo falla\"\n",
    "\n",
    "# Realiza las dos tiradas (normal y trucada)\n",
    "tirada = np.random.choice(bolas, 25, replace=False)\n",
    "trucada = np.random.choice(bolas, 25, replace=False, p=probs)\n",
    "print \"Tirada normal:\"\n",
    "print tirada\n",
    "print \"=\" * 20\n",
    "print \"Tirada trucada:\"\n",
    "print trucada\n"
   ]
  },
  {
   "cell_type": "markdown",
   "metadata": {
    "collapsed": true
   },
   "source": [
    "***\n",
    "### 3. Creación de un array mediante lectura de un archivo de texto\n",
    "#### numpy.loadtxt\n",
    ">`numpy.loadtxt(fname, dtype=float, comments='#', delimiter=None, skiprows=0)`\n",
    "\n",
    "> Esta función devuelve un array guardado en el archivo de texto fname\n",
    "> - *fname*: Cadena de texto con el nombre y ruta del archivo a leer (la ruta puede ser relativa)\n",
    "> - *dtype*: Tipo de dato guardado en el archivo<\n",
    "> - *comments*: Carácter que idenfica comentarios ('#' por defecto, los comentarios se obvian)\n",
    "> - *delimiter*: Carácter usado como delimitador de columnas."
   ]
  },
  {
   "cell_type": "code",
   "execution_count": 4,
   "metadata": {
    "collapsed": false
   },
   "outputs": [
    {
     "data": {
      "text/plain": [
       "<matplotlib.text.Text at 0x119628190>"
      ]
     },
     "execution_count": 4,
     "metadata": {},
     "output_type": "execute_result"
    },
    {
     "data": {
      "image/png": "[encoded data removed]",
      "text/plain": [
       "<matplotlib.figure.Figure at 0x116246990>"
      ]
     },
     "metadata": {},
     "output_type": "display_data"
    }
   ],
   "source": [
    "# El archivo \"c_hypsom.txt\" de la carpeta \"data\" contiene datos de una curva hipsométrica\n",
    "# Carga sus datos a un array llamado datos\n",
    "# Los datos están separados por punto y coma \";\" y el carácter \"#\" se usa para los comentarios\n",
    "datos = np.loadtxt(\"c_hypsom.txt\", delimiter=\";\")\n",
    "\n",
    "# Representamos los datos (veremos esté codigo más tarde)\n",
    "fig = plt.figure(figsize = (5, 5))\n",
    "ax = fig.add_subplot(111)\n",
    "ax.plot(datos[:,0], datos[:,1], \"b-\")\n",
    "ax.set_xlabel(\"$a/A$\", size = 13)\n",
    "ax.set_ylabel(\"$h/H$\", size = 13)\n",
    "ax.set_title(\"Curva hipsometrica\")"
   ]
  },
  {
   "cell_type": "markdown",
   "metadata": {},
   "source": [
    "***\n",
    "#### numpy.savetxt\n",
    ">`numpy.savetxt(fname, X, delimiter=\"\")`\n",
    "\n",
    "> Esta función guarda un array en el archivo de texto fname\n",
    "> - *fname*: Cadena de texto con el nombre y ruta del archivo a escribir (la ruta puede ser relativa)\n",
    "> - *X*: Array a guardar en el archivo\n",
    "> - *delimiter*: Carácter usado como delimitador de columnas. Un espacio por defecto."
   ]
  },
  {
   "cell_type": "code",
   "execution_count": 37,
   "metadata": {
    "collapsed": false
   },
   "outputs": [
    {
     "name": "stdout",
     "output_type": "stream",
     "text": [
      "[ 332.71754043  373.73660028  313.8336771   311.65618174  462.94683435]\n"
     ]
    }
   ],
   "source": [
    "# Crea un array de 5000 con valores aleatorios que sigan una distribución con media 345 y desv. típ. 60\n",
    "# Guarda el array como un archivo de texto (\"data/random_values.txt\") con valores separados con punto y coma\";\"\n",
    "# Carga el array guardado e imprime sus 5 primeros valores\n",
    "# Esos valores serán [ 332.71754043  373.73660028  313.8336771   311.65618174  462.94683435] ¿Por qué?\n",
    "np.random.seed(12345)\n",
    "arr = 60 * np.random.randn(5000) + 345\n",
    "np.savetxt(\"data/random_values.txt\", arr)\n",
    "arr = np.loadtxt(\"data/random_values.txt\")\n",
    "print arr[:5]"
   ]
  },
  {
   "cell_type": "markdown",
   "metadata": {},
   "source": [
    "***\n",
    "#### numpy.load  /  numpy.save\n",
    ">`numpy.load(fname)`\n",
    "\n",
    "> Esta función lee un array de un archivo guardado como un archivo binario (tipo npy)\n",
    "> - *fname*: Cadena de texto con el nombre y ruta del archivo a escribir (la ruta puede ser relativa)</li>\n",
    "\n",
    "***\n",
    ">`numpy.save(fname, X)`\n",
    "\n",
    ">Esta función guarda un array en un archivo binario (tipo npy)\n",
    "> - *fname*: Cadena de texto con el nombre y ruta del archivo a escribir (la ruta puede ser relativa)\n",
    "> - *X*: Array a guardar en el archivo"
   ]
  },
  {
   "cell_type": "code",
   "execution_count": 38,
   "metadata": {
    "collapsed": false
   },
   "outputs": [
    {
     "name": "stdout",
     "output_type": "stream",
     "text": [
      "Guardamos el archivo como texto\n",
      "La función se ha ejecutado en 4.72544002533 segundos\n",
      "\n",
      "Guardamos el archivo en binario\n",
      "La función se ha ejecutado en 0.069638967514 segundos\n"
     ]
    }
   ],
   "source": [
    "# Vamos a ver las ventajas de trabajar con archivos binarios en vez de con archivos de texto\n",
    "import time\n",
    "# Funcion decoradora\n",
    "def cronometro(funcion):\n",
    "    def wrapper(*args, **kwargs):\n",
    "        # Tiempo de inicio de ejecución.\n",
    "        inicio = time.time()\n",
    "        # Ejecutamos la funcion\n",
    "        ret = funcion(*args, **kwargs)\n",
    "        # Tiempo de finalización de la ejecución.\n",
    "        fin = time.time()\n",
    "        print \"La función se ha ejecutado en \" + str(fin - inicio) + \" segundos\"\n",
    "        return ret\n",
    "    return wrapper\n",
    "\n",
    "# Funciones para ver el tiempo que se tarda en guardar un archivo en texto y en binario\n",
    "# decoramos las funciones con cronometro, para controlar los tiempos\n",
    "@cronometro\n",
    "def guarda_texto(X, file_path, delimiter_char):\n",
    "    np.savetxt(file_path, X, delimiter = delimiter_char)\n",
    "    \n",
    "@cronometro\n",
    "def guarda_binario(X, file_path):\n",
    "    np.save(file_path, X) \n",
    "    \n",
    "# Creamos un array muy grande de valores aletorios y lo guardamos de ambos modos\n",
    "arr = np.random.randint(0,100, 1000000)\n",
    "print \"Guardamos el archivo como texto\"\n",
    "guarda_texto(arr, \"data/arr_texto.txt\", \";\")\n",
    "print \"\"\n",
    "print \"Guardamos el archivo en binario\"\n",
    "guarda_binario(arr, \"data/arr_binario\")"
   ]
  },
  {
   "cell_type": "markdown",
   "metadata": {},
   "source": [
    "***\n",
    "### 4. Creación de arrays a partir de otros arrays\n",
    "\n",
    "Hay varias formas de generar un array a partir de otro array:\n",
    "1. Asignando el mismo array a otra variable **[se comparte memoria]**\n",
    "2. Mediante una operación de \"slicing\" **[se comparte memoria]**\n",
    "3. Mediante una operación de \"indexing\" **[NO se comparte memoria]**\n",
    "4. Mediante una operación aritmética (\"broadcasting\") **[NO se comparte memoria]**\n",
    "5. Mediante la función numpy.copy() **[NO se comparte memoria]**"
   ]
  },
  {
   "cell_type": "code",
   "execution_count": 43,
   "metadata": {
    "collapsed": false
   },
   "outputs": [
    {
     "name": "stdout",
     "output_type": "stream",
     "text": [
      "[0 1 2 3 4 5 6 7 8 9]\n",
      "[0 1 2 3 4 5 6 7 8 9]\n",
      "\n",
      "[ 0  1  2  3  4 99  6  7  8  9]\n",
      "[ 0  1  2  3  4 99  6  7  8  9]\n"
     ]
    }
   ],
   "source": [
    "# ASIGNACIÓN DEL MISMO ARRAY A DOS VARIABLES (Se comparte memoria)\n",
    "\n",
    "# Crea un array con 10 valores consecutivos del [0, 9)\n",
    "arr = np.arange(10)\n",
    "# Crea un segundo array asignandole otra variable al primer array\n",
    "arr2 = arr\n",
    "# Imprime ambos arrays\n",
    "print arr\n",
    "print arr2\n",
    "print\n",
    "\n",
    "# Modificamos un valor del primer array\n",
    "# Imprime ambos arrays de nuevo\n",
    "arr[5] = 99\n",
    "print arr\n",
    "print arr2"
   ]
  },
  {
   "cell_type": "code",
   "execution_count": 44,
   "metadata": {
    "collapsed": false
   },
   "outputs": [
    {
     "name": "stdout",
     "output_type": "stream",
     "text": [
      "[ 0 10 20 30 40 50 60 70 80 90]\n",
      "[60 70 80 90]\n",
      "\n",
      "[ 0 10 20 30 40 50 60 70 99 90]\n",
      "[60 70 99 90]\n"
     ]
    }
   ],
   "source": [
    "# CREACIÓN DE UN ARRAY MEDIANTE UNA OPERACIÓN DE 'SLICING'\n",
    "\n",
    "# Crea un array con 10 valores enteros de [0, 100)\n",
    "arr = np.arange(0, 100, 10)\n",
    "# Crea un segundo array con los 4 últimos valores del primer array\n",
    "arr2 = arr[-4:]\n",
    "print arr\n",
    "print arr2\n",
    "print \n",
    "\n",
    "# Modifica el valor de la posición 8 del primer array\n",
    "# Imprime ambos arrays\n",
    "arr[8] = 99\n",
    "print arr\n",
    "print arr2"
   ]
  },
  {
   "cell_type": "code",
   "execution_count": 45,
   "metadata": {
    "collapsed": false
   },
   "outputs": [
    {
     "name": "stdout",
     "output_type": "stream",
     "text": [
      "[ 0 10 20 30 40 50 60 70 80 90]\n",
      "[20 30 40 50]\n",
      "\n",
      "[ 0 10 99 30 40 50 60 70 80 90]\n",
      "[20 30 40 50]\n"
     ]
    }
   ],
   "source": [
    "# CREACIÓN DE UN ARRAY MEDIANTE UNA OPERACIÓN DE 'INDEXING'\n",
    "\n",
    "# Creamos de un array de 10 valores consecutivos entre [0, 100)\n",
    "arr = np.arange(0, 100, 10)\n",
    "# Creamos un array con las posiciones 2, 3, 4 y 5\n",
    "indices = np.arange(2, 6)\n",
    "# Creamos un segundo array \"indexando\" el primer array con los índices\n",
    "arr2 = arr[indices]\n",
    "# Imprimimos ambos arrays\n",
    "print arr\n",
    "print arr2\n",
    "print \n",
    "\n",
    "# Modificamos el tercer valor del primer array\n",
    "# Volvemos a imprimir ambos arrays\n",
    "arr[2] = 99\n",
    "print arr\n",
    "print arr2"
   ]
  },
  {
   "cell_type": "code",
   "execution_count": 46,
   "metadata": {
    "collapsed": false
   },
   "outputs": [
    {
     "name": "stdout",
     "output_type": "stream",
     "text": [
      "[ 0 10 20 30 40 50 60 70 80 90]\n",
      "[ 5 15 25 35 45 55 65 75 85 95]\n",
      "\n",
      "[ 0 10 99 30 40 50 60 70 80 90]\n",
      "[ 5 15 25 35 45 55 65 75 85 95]\n"
     ]
    }
   ],
   "source": [
    "# CREACIÓN DE UN ARRAY MEDIANTE UNA OPERACIÓN ARITMÉTICA (\"BROADCASTING\")\n",
    "\n",
    "# Crea un array de 10 valores consecutivos entre [0, 100)\n",
    "arr = np.arange(0, 100, 10)\n",
    "# Crea un segundo array sumandole 5 a todos los valores del array anterior\n",
    "arr2 = arr + 5\n",
    "# Imprime ambos arrays\n",
    "print arr\n",
    "print arr2\n",
    "print \n",
    "\n",
    "# Modifica un valor del primer array\n",
    "# Imprime ambos arrays\n",
    "arr[2] = 99\n",
    "print arr\n",
    "print arr2"
   ]
  },
  {
   "cell_type": "code",
   "execution_count": 48,
   "metadata": {
    "collapsed": false
   },
   "outputs": [
    {
     "name": "stdout",
     "output_type": "stream",
     "text": [
      "[ 0 10 20 30 40 50 60 70 80 90]\n",
      "[ 0 10 20 30 40 50 60 70 80 90]\n",
      "\n",
      "[ 0 10 99 30 40 50 60 70 80 90]\n",
      "[ 0 10 20 30 40 50 60 70 80 90]\n"
     ]
    }
   ],
   "source": [
    "# CREACIÓN DE UN ARRAY MEDIANTE NUMPY.COPY()\n",
    "\n",
    "# Crea un array de 10 valores consecutivos entre [0, 100)\n",
    "arr = np.arange(0, 100, 10)\n",
    "# Crea una copia del array con numpy.copy()\n",
    "arr2 = np.copy(arr)\n",
    "# Imprime ambos arrays\n",
    "print arr\n",
    "print arr2\n",
    "print\n",
    "\n",
    "# Modifica un valor del primer array\n",
    "# Imprime ambos arrays\n",
    "arr[2] = 99\n",
    "print arr\n",
    "print arr2"
   ]
  }
 ],
 "metadata": {
  "kernelspec": {
   "display_name": "Python 2",
   "language": "python",
   "name": "python2"
  },
  "language_info": {
   "codemirror_mode": {
    "name": "ipython",
    "version": 2
   },
   "file_extension": ".py",
   "mimetype": "text/x-python",
   "name": "python",
   "nbconvert_exporter": "python",
   "pygments_lexer": "ipython2",
   "version": "2.7.13"
  }
 },
 "nbformat": 4,
 "nbformat_minor": 1
}
