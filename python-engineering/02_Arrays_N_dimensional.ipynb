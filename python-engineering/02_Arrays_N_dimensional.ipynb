{
 "cells": [
  {
   "cell_type": "markdown",
   "metadata": {},
   "source": [
    "## Arrays n-dimensionales\n",
    "\n",
    "Existen varias formas de crear un array n-dimensional en numpy:\n",
    "1. Creando un array a partir de una \"lista de listas\" (o tupla de tuplas)\n",
    "2. Utilizando una función de numpy que nos permita especificar dimensiones\n",
    "3. Cambiando las dimensiones de un array con métodos propios o funciones de numpy\n",
    "4. Extrayendo una \"parte\" de otro array n-dimensional por medio de \"slicing\""
   ]
  },
  {
   "cell_type": "code",
   "execution_count": 1,
   "metadata": {
    "collapsed": true
   },
   "outputs": [],
   "source": [
    "# Importamos los módulos necesarios\n",
    "import numpy as np\n",
    "import matplotlib.pyplot as plt\n",
    "%matplotlib inline"
   ]
  },
  {
   "cell_type": "markdown",
   "metadata": {},
   "source": [
    "### 1. Creación de un array n-dimensional a partir de una \"lista de listas\""
   ]
  },
  {
   "cell_type": "code",
   "execution_count": 2,
   "metadata": {},
   "outputs": [
    {
     "name": "stdout",
     "output_type": "stream",
     "text": [
      "[[ 0  1  2  3]\n",
      " [ 4  5  6  7]\n",
      " [ 8  9 10 11]]\n",
      "(3L, 4L)\n"
     ]
    }
   ],
   "source": [
    "# Crea una un array a partir de una lista de listas\n",
    "# Imprime el array y sus dimensiones\n",
    "mi_lista = [[0,1,2,3],[4,5,6,7],[8,9,10,11]]\n",
    "arr = np.array(mi_lista)\n",
    "print arr\n",
    "print arr.shape"
   ]
  },
  {
   "cell_type": "code",
   "execution_count": 3,
   "metadata": {},
   "outputs": [
    {
     "name": "stdout",
     "output_type": "stream",
     "text": [
      "[[75 95]\n",
      " [97 26]\n",
      " [28 77]\n",
      " [79 42]\n",
      " [75 78]\n",
      " [16 95]\n",
      " [30 37]\n",
      " [98 91]\n",
      " [80 16]\n",
      " [15 67]]\n",
      "(10L, 2L)\n"
     ]
    }
   ],
   "source": [
    "# Crea una lista con 10 tuplas de coordenadas xy aleatorias entre 1 y 100\n",
    "# Crea un array 2D a partir de la lista de tuplas\n",
    "# Imprime el array resultante, su número de elementos y sus dimensiones\n",
    "r = np.random.randint\n",
    "lista_xy = [(np.random.randint(100),np.random.randint(100)) for n in range(10)]  \n",
    "arr = np.array(lista_xy)\n",
    "print arr\n",
    "print arr.shape"
   ]
  },
  {
   "cell_type": "markdown",
   "metadata": {},
   "source": [
    "### 2. Creación de un array n-dimensional con funciones que nos permiten especificar dimensiones\n",
    "Dependiendo de la función podemos tener un identificador u otro para especificar las dimensiones\n"
   ]
  },
  {
   "cell_type": "code",
   "execution_count": 5,
   "metadata": {},
   "outputs": [
    {
     "name": "stdout",
     "output_type": "stream",
     "text": [
      "[['VICTOR' 'RAMIREZ SANTOS' '42561777W']\n",
      " ['ROBERTO' 'MORENO RAMOS' '80869333G']\n",
      " ['RAUL' 'RODRIGUEZ SUAREZ' '60052347I']\n",
      " ['JULIAN' 'SANZ CASTRO' '86388863A']\n",
      " ['IVAN' 'RAMIREZ MARTIN' '86447918O']\n",
      " ['JAVIER' 'ROMERO GUERRERO' '78540725O']\n",
      " ['OSCAR' 'RAMIREZ MORENO' '74889228A']\n",
      " ['PABLO' 'MORALES GARRIDO' '91573343S']\n",
      " ['IGNACIO' 'GIL SERRANO' '23996876R']\n",
      " ['LUIS' 'RUBIO GARCIA' '71164660O']\n",
      " ['DANIEL' 'DOMINGUEZ VAZQUEZ' '21928760L']\n",
      " ['JUAN' 'JIMENEZ SANTOS' '17430464J']\n",
      " ['JOSE' 'GIL MORENO' '76990781V']\n",
      " ['ALVARO' 'MEDINA PRIETO' '38712413K']\n",
      " ['JULIAN' 'MORALES LUQUE' '24625514R']\n",
      " ['GUILLERMO' 'GARCIA LOPEZ' '62888678I']\n",
      " ['IVAN' 'LUQUE LOPEZ' '94490283S']\n",
      " ['JESUS' 'GIL BLANCO' '96182073B']\n",
      " ['JULIO' 'VAZQUEZ GOMEZ' '20648997J']\n",
      " ['RICARDO' 'LUQUE LOPEZ' '45936624E']\n",
      " ['JESUS' 'DELGADO CORTES' '86480946I']\n",
      " ['JAVIER' 'GONZALEZ PRIETO' '69643634A']\n",
      " ['JULIAN' 'SANZ RAMIREZ' '97255512J']\n",
      " ['RICARDO' 'LOZANO PEREZ' '77431368B']\n",
      " ['JOSE' 'CASTILLO GUTIERREZ' '86296520S']]\n"
     ]
    }
   ],
   "source": [
    "# Crea un array con un listado de 25 nombres y DNIs aleatorios\n",
    "# Los archivos \"data/50_nombres.txt\" y \"data/50_ape.txt\" tienen los 50 nombres \n",
    "# y apellidos más frecuentes de España\n",
    "# Cada nombre será una combinación de un nombre más dos apellidos aleatorios de las listas dadas\n",
    "# Cada DNI será un numero entero de 8 cifras más una letra\n",
    "# Para obtener las letras podemos utilizar la función chr(num) y la función map()\n",
    "# chr(65) --> \"A\" y chr(90) --> \"Z\"\n",
    "# Imprime el array de nombres resultante\n",
    "nombres = np.loadtxt(\"data/50_nombres.txt\", dtype=\"str\")\n",
    "apellidos = np.loadtxt(\"data/50_ape.txt\", dtype=\"str\")\n",
    "\n",
    "# Para conseguir letras mayusculas de la a A a la Z utilizaremos la funcion chr\n",
    "letras = np.array(map(chr, range(65, 91)))\n",
    "\n",
    "lista_nombres = []\n",
    "for n in range(25):\n",
    "    nombre = np.random.choice(nombres)\n",
    "    ape1 = np.random.choice(apellidos)\n",
    "    ape2 = np.random.choice(apellidos)\n",
    "    num = str(np.random.randint(11111111, 99999999)) + str(np.random.choice(letras))\n",
    "    lista_nombres.append((nombre, \" \".join((ape1, ape2)), num))\n",
    "arr_nombres = np.array(lista_nombres)\n",
    "print arr_nombres"
   ]
  },
  {
   "cell_type": "code",
   "execution_count": 6,
   "metadata": {},
   "outputs": [
    {
     "name": "stdout",
     "output_type": "stream",
     "text": [
      "[[0 0 0 0]\n",
      " [0 0 0 0]\n",
      " [0 0 0 0]\n",
      " [0 0 0 0]]\n",
      "(4L, 4L)\n"
     ]
    }
   ],
   "source": [
    "# Crea un array de 4x4 con valores enteros de 0\n",
    "# Imprime el array y sus dimensiones\n",
    "arr = np.zeros((4,4), dtype=\"int\")\n",
    "print arr\n",
    "print arr.shape"
   ]
  },
  {
   "cell_type": "code",
   "execution_count": 7,
   "metadata": {},
   "outputs": [
    {
     "name": "stdout",
     "output_type": "stream",
     "text": [
      "[[5 5 5 5]\n",
      " [5 5 5 5]\n",
      " [5 5 5 5]\n",
      " [5 5 5 5]\n",
      " [5 5 5 5]\n",
      " [5 5 5 5]]\n"
     ]
    }
   ],
   "source": [
    "# Crea un array de 6x4 con valores de 5.6\n",
    "# Imprime el array\n",
    "arr = np.empty((6,4), dtype = \"int\")\n",
    "arr.fill(5)\n",
    "print arr"
   ]
  },
  {
   "cell_type": "code",
   "execution_count": 8,
   "metadata": {},
   "outputs": [
    {
     "name": "stdout",
     "output_type": "stream",
     "text": [
      "[[ 19.82284967  11.16196491  18.32528707   2.07202037  20.46116268]\n",
      " [  1.88590544  10.88812729  21.68283399   2.6057654   14.95878141]\n",
      " [  4.70266188  24.02781428   4.6202328   13.70337417  17.62402303]\n",
      " [  9.95329873  11.01651197   8.22188108  14.15346256  17.18513135]\n",
      " [ 21.40236299   9.68220936  24.37854771  14.93011812  10.42219266]]\n"
     ]
    }
   ],
   "source": [
    "# Crea un array de 5x5 con valores decimales aleatorios entre [0, 25)\n",
    "# Imprime el array\n",
    "arr = np.random.random((5, 5)) * 25\n",
    "print arr"
   ]
  },
  {
   "cell_type": "code",
   "execution_count": 9,
   "metadata": {},
   "outputs": [
    {
     "name": "stdout",
     "output_type": "stream",
     "text": [
      "[  89.55455923   93.47671933   87.0387106   100.4675054   104.55595655\n",
      "  101.43182928  110.31283926  102.76599062   81.84986214  114.72285369\n",
      "   93.85334925  109.38437227   93.31827921   87.17835296   94.0440907\n",
      "   92.73294794  116.71904565  100.24368599  101.83150567  101.68461144\n",
      "   90.7909427    83.35074488   87.60345987   94.72320585  110.66942126\n",
      "   79.76474893   94.52459972  116.04136241  109.44520303   98.5272124\n",
      "  107.05740237  107.31267818   99.99141279   95.00782569  108.93487538\n",
      "   92.02922078   92.26790635  114.31019142  113.34868485  115.16770329\n",
      "  100.63998981   80.10160394   87.08082921   79.48808048  103.40958535\n",
      "   88.74903759   98.50832894   98.12285002   90.96109175   77.99187168]\n"
     ]
    }
   ],
   "source": [
    "# Crea un array 2D con 50 valores aleatorios con una distribución normal con media 100 y desviación tipica 10\n",
    "# Imprime el array\n",
    "arr = 10 * np.random.randn(50) + 100\n",
    "print arr"
   ]
  },
  {
   "cell_type": "markdown",
   "metadata": {
    "collapsed": true
   },
   "source": [
    "***\n",
    "### 3. Cambiando las dimensiones de un array mediante métodos y funciones de numpy\n",
    "\n",
    "#### array.shape\n",
    "> `array.shape`\n",
    "\n",
    "> Propiedad del array que nos indica sus dimensiones. Podemos cambiar las dimensiones asignando a esta propiedad una tupla o lista. Las nuevas dimensiones**tienen que ser coherentes** con el número de elementos del array"
   ]
  },
  {
   "cell_type": "code",
   "execution_count": 10,
   "metadata": {},
   "outputs": [
    {
     "name": "stdout",
     "output_type": "stream",
     "text": [
      "[0 1 2 3 4 5 6 7 8]\n",
      "[[0 1 2]\n",
      " [3 4 5]\n",
      " [6 7 8]]\n"
     ]
    }
   ],
   "source": [
    "# Genera un array unidimensional con 9 valores consecutivos del 0 al 8\n",
    "# Imprime el array\n",
    "# Cambia las dimensiones del array a 3x3 con su propiedad shape\n",
    "# Imprime el array\n",
    "arr = np.arange(9)\n",
    "print arr\n",
    "arr.shape = (3,3)\n",
    "print arr"
   ]
  },
  {
   "cell_type": "code",
   "execution_count": 11,
   "metadata": {},
   "outputs": [],
   "source": [
    "# Crea un array unidimensional con 12 valores\n",
    "# Intenta cambiar las dimensiones del array a 4x4\n",
    "arr = np.arange(12)\n",
    "#arr.shape = (4,4)"
   ]
  },
  {
   "cell_type": "markdown",
   "metadata": {},
   "source": [
    "***\n",
    "#### array.reshape( )\n",
    "> `array.reshape(shape)`\n",
    "> - *shape*: Lista o tupla con las nuevas dimensiones del array\n",
    "\n",
    "> Método de un array que **retorna otro array** con las dimensiones especificadas en *shape*\n",
    "> El array original y el retornado **comparten memoria**. \n",
    "> Si especificamos *array.reshape(-1)* creamos una versión unidimensional del array.\n"
   ]
  },
  {
   "cell_type": "code",
   "execution_count": 12,
   "metadata": {},
   "outputs": [
    {
     "name": "stdout",
     "output_type": "stream",
     "text": [
      "[ 0  1 99  3  4  5  6  7  8]\n",
      "(9L,)\n",
      "[[ 0  1 99]\n",
      " [ 3  4  5]\n",
      " [ 6  7  8]]\n",
      "(3L, 3L)\n"
     ]
    }
   ],
   "source": [
    "# Genera un array unidimensional con 9 valores consecutivos de 1 a 8\n",
    "# Crea un segundo array a 3x3 con el método reshape\n",
    "# Cambia un valor en uno de los arrays\n",
    "# Imprime ambos arrays y sus dimensiones\n",
    "arr = np.arange(9)\n",
    "arr2 = arr.reshape(3,3)\n",
    "arr[2] = 99\n",
    "print arr\n",
    "print arr.shape\n",
    "print arr2\n",
    "print arr2.shape"
   ]
  },
  {
   "cell_type": "markdown",
   "metadata": {},
   "source": [
    "***\n",
    "#### array.ravel( )\n",
    "> `array.ravel()`\n",
    "\n",
    "> Método de un array que *retorna* una vista unidimensional del array. El array original y el retornado **comparten memoria**"
   ]
  },
  {
   "cell_type": "code",
   "execution_count": 13,
   "metadata": {},
   "outputs": [
    {
     "name": "stdout",
     "output_type": "stream",
     "text": [
      "[[ 55  48   3  65]\n",
      " [ 40  26  74  85]\n",
      " [ 13  42 999  82]\n",
      " [ 76  57  88  12]]\n",
      "[ 55  48   3  65  40  26  74  85  13  42 999  82  76  57  88  12]\n"
     ]
    }
   ],
   "source": [
    "# Crea un array de 4x4 con valores aleatorios entre 0 y 90\n",
    "# Crea un segundo array unidimensional a partir del primero\n",
    "# Cambia un valor del primer array\n",
    "# Imprime ambos arrays\n",
    "arr = np.random.randint(0, 90, (4,4))\n",
    "arr2 = arr.ravel()\n",
    "arr[2,2] = 999\n",
    "print arr\n",
    "print arr2"
   ]
  },
  {
   "cell_type": "code",
   "execution_count": 14,
   "metadata": {},
   "outputs": [
    {
     "name": "stdout",
     "output_type": "stream",
     "text": [
      "[[ 0  1  2  3  4]\n",
      " [ 5  6  7  8  9]\n",
      " [10 11 12 13 14]\n",
      " [15 16 17 18 19]\n",
      " [20 21 22 23 24]]\n"
     ]
    }
   ],
   "source": [
    "# Crea un array de 5x5 con numeros consecutivos del 0 al 24 (en una sola línea de código)\n",
    "# Imprime el array\n",
    "arr = np.arange(25).reshape((5,5))\n",
    "print arr"
   ]
  },
  {
   "cell_type": "code",
   "execution_count": 15,
   "metadata": {},
   "outputs": [
    {
     "name": "stdout",
     "output_type": "stream",
     "text": [
      "[ 0  1  2  3  4  5  6  7  8  9 10 11 12 13 14 15 16 17 18 19 20 21 22 23 24]\n"
     ]
    }
   ],
   "source": [
    "# Crea una 'copia' unidimensional del array anterior (en una sola línea de código)\n",
    "# Imprime el array resultante\n",
    "copia = np.copy(arr.ravel())\n",
    "print copia"
   ]
  },
  {
   "cell_type": "markdown",
   "metadata": {},
   "source": [
    "***\n",
    "### 4. Cambiando las dimensiones de un array mediante métodos y funciones de numpy\n",
    "\n",
    "Veremos estos métodos en un cuaderno más adelante"
   ]
  },
  {
   "cell_type": "code",
   "execution_count": null,
   "metadata": {
    "collapsed": true
   },
   "outputs": [],
   "source": []
  }
 ],
 "metadata": {
  "kernelspec": {
   "display_name": "Python 2",
   "language": "python",
   "name": "python2"
  },
  "language_info": {
   "codemirror_mode": {
    "name": "ipython",
    "version": 2
   },
   "file_extension": ".py",
   "mimetype": "text/x-python",
   "name": "python",
   "nbconvert_exporter": "python",
   "pygments_lexer": "ipython2",
   "version": "2.7.10"
  }
 },
 "nbformat": 4,
 "nbformat_minor": 1
}
