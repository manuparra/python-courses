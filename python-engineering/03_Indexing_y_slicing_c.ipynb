{
 "cells": [
  {
   "cell_type": "markdown",
   "metadata": {},
   "source": [
    "## Acceso a elementos de un array\n",
    "\n",
    "Tenemos dos métodos fundamentales para acceder a los elementos de un array:\n",
    "1. Especificando *\"porciones\"* del array en cada dimension -- **slicing** (similar al acceso de listas)\n",
    "2. Especificando *\"posiciones\"* del array en cada dimension -- **indexing**\n",
    "\n",
    "> Para arrays n-dimensionales, el acceso a sus elementos se realizará:\n",
    "\n",
    "> **array [ exp1 , exp2 , ..., expn ]**\n",
    "\n",
    "> Donde exp1, exp2, ..., expn, serán *expresiones de indexing o slicing* para cada dimension del array"
   ]
  },
  {
   "cell_type": "code",
   "execution_count": 1,
   "metadata": {
    "collapsed": true
   },
   "outputs": [],
   "source": [
    "#Importamos los módulos necesarios\n",
    "import numpy as np\n",
    "import matplotlib.pyplot as plt"
   ]
  },
  {
   "cell_type": "markdown",
   "metadata": {},
   "source": [
    "***\n",
    "### 1. Slicing en un array n-dimensional\n",
    "\n",
    "Una expresion de slicing está constituida por:  \n",
    "    **start : stop : step**\n",
    "\n",
    "- *start* y *stop* se corresponden con índices del array (stop no se incluye en intervalo)\n",
    "- Si no especificamos start, este se asume que será el primer índice (0)\n",
    "- Si no especificamos stop, este se asume que será la longitud de esa dimension\n",
    "- Si no especificamos step, este se asume que será 1\n",
    "- Si start > stop, se extraen los valores en orden descendente\n",
    "- Si step < 0 , se extraen los valores en orden descendente\n",
    "- En una operación de slicing, original y derivado **comparten memoria**"
   ]
  },
  {
   "cell_type": "code",
   "execution_count": 4,
   "metadata": {
    "collapsed": false
   },
   "outputs": [
    {
     "name": "stdout",
     "output_type": "stream",
     "text": [
      "[[ 0  1  2  3]\n",
      " [ 4  5  6  7]\n",
      " [ 8  9 10 11]\n",
      " [12 13 14 15]]\n",
      "(4L, 4L)\n"
     ]
    }
   ],
   "source": [
    "# Crea un array de (4, 4) con 16 valores consecutivos del [0, ¡5)\n",
    "# Imprime el array y sus dimensiones\n",
    "arr = np.arange(16).reshape((4, 4))\n",
    "print arr\n",
    "print arr.shape"
   ]
  },
  {
   "cell_type": "code",
   "execution_count": 5,
   "metadata": {
    "collapsed": false
   },
   "outputs": [
    {
     "name": "stdout",
     "output_type": "stream",
     "text": [
      "[[0 1]\n",
      " [4 5]]\n"
     ]
    }
   ],
   "source": [
    "# Extrae los 4 valores de la esquina superior izquierda\n",
    "# Imprime el array resultante\n",
    "res  = arr[:2, :2]\n",
    "print res"
   ]
  },
  {
   "cell_type": "code",
   "execution_count": 6,
   "metadata": {
    "collapsed": false
   },
   "outputs": [
    {
     "name": "stdout",
     "output_type": "stream",
     "text": [
      "[[2 3]\n",
      " [6 7]]\n"
     ]
    }
   ],
   "source": [
    "# Extrae los 4 valores de la esquina superior derecha\n",
    "# Imprime el array resultante\n",
    "res = arr[:2, -2:]\n",
    "print res"
   ]
  },
  {
   "cell_type": "code",
   "execution_count": 7,
   "metadata": {
    "collapsed": false
   },
   "outputs": [
    {
     "name": "stdout",
     "output_type": "stream",
     "text": [
      "[[ 8  9]\n",
      " [12 13]]\n"
     ]
    }
   ],
   "source": [
    "# Extrae los 4 valores de la esquina inferior izquierda\n",
    "# Imprime el array resultante\n",
    "res = arr[-2:, :2]\n",
    "print res"
   ]
  },
  {
   "cell_type": "code",
   "execution_count": 8,
   "metadata": {
    "collapsed": false
   },
   "outputs": [
    {
     "name": "stdout",
     "output_type": "stream",
     "text": [
      "[[10 11]\n",
      " [14 15]]\n"
     ]
    }
   ],
   "source": [
    "# Extrae los 4 valores de la esquina inferior derecha\n",
    "# Imprime el array resultante\n",
    "res = arr[-2:, -2:]\n",
    "print res"
   ]
  },
  {
   "cell_type": "code",
   "execution_count": 9,
   "metadata": {
    "collapsed": false
   },
   "outputs": [
    {
     "name": "stdout",
     "output_type": "stream",
     "text": [
      "[[ 5  6]\n",
      " [ 9 10]]\n"
     ]
    }
   ],
   "source": [
    "# Extrae los 4 valores centrales\n",
    "# Imprime el array resultante\n",
    "start = (arr.shape[0] / 2) - 1\n",
    "stop = start + 2\n",
    "res = arr[start:stop, start:stop]\n",
    "print res"
   ]
  },
  {
   "cell_type": "code",
   "execution_count": 10,
   "metadata": {
    "collapsed": true
   },
   "outputs": [],
   "source": [
    "# Cambia el array de la primera celda a uno de (6, 6)\n",
    "# ¿Sirven los códigos de las celdas anteriores?\n",
    "# Si no funciona, cambia los códigos para que sirvan para un array de (4, 4) o (6, 6)"
   ]
  },
  {
   "cell_type": "code",
   "execution_count": 11,
   "metadata": {
    "collapsed": false
   },
   "outputs": [
    {
     "name": "stdout",
     "output_type": "stream",
     "text": [
      "[[  0   1   2   3   4   5   6   7   8]\n",
      " [  0  10  20  30  40  50  60  70  80]\n",
      " [  0 100 200 300 400 500 600 700 800]]\n",
      "(3L, 9L)\n",
      "====================\n",
      "[[  0   0   0]\n",
      " [  1  10 100]\n",
      " [  2  20 200]\n",
      " [  3  30 300]\n",
      " [  4  40 400]\n",
      " [  5  50 500]\n",
      " [  6  60 600]\n",
      " [  7  70 700]\n",
      " [  8  80 800]]\n",
      "(9L, 3L)\n"
     ]
    }
   ],
   "source": [
    "# Observa el siguiente código y examina que hace la \"T\"\n",
    "c1 = np.arange(0, 9)\n",
    "c2 = np.arange(0, 90, 10)\n",
    "c3 = np.arange(0, 900, 100)\n",
    "arr = np.array((c1,c2,c3))\n",
    "print arr\n",
    "print arr.shape\n",
    "print \"=\" * 20\n",
    "arr = arr.T\n",
    "print arr\n",
    "print arr.shape"
   ]
  },
  {
   "cell_type": "code",
   "execution_count": 12,
   "metadata": {
    "collapsed": false
   },
   "outputs": [
    {
     "name": "stdout",
     "output_type": "stream",
     "text": [
      "[  0 100 200 300 400 500 600 700 800]\n",
      "(9L,)\n",
      "1\n"
     ]
    }
   ],
   "source": [
    "# Extrae los valores de la tercera columna del array anterior\n",
    "# Imprime el array resultante, el número de sus dimensiones y sus dimensiones\n",
    "res = arr[:, 2]\n",
    "print res\n",
    "print res.shape\n",
    "print res.ndim"
   ]
  },
  {
   "cell_type": "code",
   "execution_count": 13,
   "metadata": {
    "collapsed": false
   },
   "outputs": [
    {
     "name": "stdout",
     "output_type": "stream",
     "text": [
      "[80 70 60 50 40 30 20 10  0]\n"
     ]
    }
   ],
   "source": [
    "# Extrae los valores de la segunda columna en orden descendente del array anterior\n",
    "# Imprime el array resultante\n",
    "res = arr[::-1, 1]\n",
    "print res"
   ]
  },
  {
   "cell_type": "code",
   "execution_count": 14,
   "metadata": {
    "collapsed": false
   },
   "outputs": [
    {
     "name": "stdout",
     "output_type": "stream",
     "text": [
      "[80 70 60 50 40 30 20 10  0]\n"
     ]
    }
   ],
   "source": [
    "# Con el array anterior, examina si puedes utilizar \"T\" para obtener la transpuesta\n",
    "# ¿Funciona o no? ¿Por qué?\n",
    "transpuesta = res.T\n",
    "print transpuesta"
   ]
  },
  {
   "cell_type": "code",
   "execution_count": 15,
   "metadata": {
    "collapsed": false
   },
   "outputs": [
    {
     "name": "stdout",
     "output_type": "stream",
     "text": [
      "[[[ 0  1  2  3]\n",
      "  [ 4  5  6  7]\n",
      "  [ 8  9 10 11]\n",
      "  [12 13 14 15]]\n",
      "\n",
      " [[16 17 18 19]\n",
      "  [20 21 22 23]\n",
      "  [24 25 26 27]\n",
      "  [28 29 30 31]]]\n"
     ]
    }
   ],
   "source": [
    "# Observa el siguiente array\n",
    "arr = np.arange(32).reshape((2,4,4))\n",
    "print arr\n",
    "\n",
    "#¿Qué array obtendrán las siguientes expresiones? (Intenta averiguarlo sin imprimir los resultados en pantalla)\n",
    "b1 = arr[0,2:,1:3]\n",
    "b2 = arr[0]\n",
    "b3 = arr[1, 2:3]\n",
    "b4 = arr[:,::-1,1]"
   ]
  },
  {
   "cell_type": "markdown",
   "metadata": {},
   "source": [
    "***\n",
    "### 2. Indexing en un array n-dimensional\n",
    "\n",
    "Una expresion de indexing consiste en especificar mediante listas, tuplas o arrays los elementos que recuperar de cada dimension\n",
    "\n",
    "- Una expresion de indexing consiste en especificar mediante listas *los elementos que recuperar de cada dimension*. Es decir, para un **array de dos dimensiones**, tendremos que especificar **2 listas**, para uno de tres, tres listas, etc.\n",
    "- El array resultante será **unidimensional**\n",
    "- Original y derivado **no comparten memoria**"
   ]
  },
  {
   "cell_type": "code",
   "execution_count": 16,
   "metadata": {
    "collapsed": false
   },
   "outputs": [
    {
     "name": "stdout",
     "output_type": "stream",
     "text": [
      "[[ 1  2  3  4  5]\n",
      " [ 6  7  8  9 10]\n",
      " [11 12 13 14 15]\n",
      " [16 17 18 19 20]\n",
      " [21 22 23 24 25]]\n",
      "[ 1  7 13 19 25]\n"
     ]
    }
   ],
   "source": [
    "# Crea un array de 5x5 con 25 elementos consecutivos del 1 al 25\n",
    "# Extrae solamente los valores de la diagonal del array\n",
    "# Imprime el array original y el resultante\n",
    "arr = np.arange(1, 26).reshape((5, 5))\n",
    "res = arr[np.arange(5), np.arange(5)]\n",
    "print arr\n",
    "print res"
   ]
  },
  {
   "cell_type": "code",
   "execution_count": 17,
   "metadata": {
    "collapsed": false
   },
   "outputs": [
    {
     "name": "stdout",
     "output_type": "stream",
     "text": [
      "[ 6  8 10 12 14 16 18 20 22 24]\n"
     ]
    }
   ],
   "source": [
    "# Obten solamente los valores pares mayores que 4 del array anterior\n",
    "# Hazlo utilizando indexing con filas y columnas\n",
    "# Imprime el array resultante\n",
    "rows = []\n",
    "cols = []\n",
    "\n",
    "for row in range(arr.shape[0]):\n",
    "    for col in range(arr.shape[1]):\n",
    "        if arr[row, col] > 4 and (arr[row, col] % 2) == 0:\n",
    "            rows.append(row)\n",
    "            cols.append(col)\n",
    "            \n",
    "res = arr[rows, cols]\n",
    "print res"
   ]
  },
  {
   "cell_type": "code",
   "execution_count": 18,
   "metadata": {
    "collapsed": false
   },
   "outputs": [
    {
     "name": "stdout",
     "output_type": "stream",
     "text": [
      "[ 6  8 10 12 14 16 18 20 22 24]\n"
     ]
    }
   ],
   "source": [
    "# Numpy tiene funciones más avanzadas para realizar esto\n",
    "# (las veremos más adelante)\n",
    "idx = np.where(np.logical_and(arr>4, arr%2==0))\n",
    "resultado = arr[idx]\n",
    "print resultado"
   ]
  },
  {
   "cell_type": "code",
   "execution_count": 19,
   "metadata": {
    "collapsed": false
   },
   "outputs": [
    {
     "name": "stdout",
     "output_type": "stream",
     "text": [
      "[ 5 24  8 16]\n"
     ]
    }
   ],
   "source": [
    "# Extrae solamente los valores en las posiciones (0,4), (4,3), (1,2) y (3,0)\n",
    "res = arr[[0, 4, 1, 3], [4, 3, 2, 0]]\n",
    "print res"
   ]
  }
 ],
 "metadata": {
  "kernelspec": {
   "display_name": "Python 2",
   "language": "python",
   "name": "python2"
  },
  "language_info": {
   "codemirror_mode": {
    "name": "ipython",
    "version": 2
   },
   "file_extension": ".py",
   "mimetype": "text/x-python",
   "name": "python",
   "nbconvert_exporter": "python",
   "pygments_lexer": "ipython2",
   "version": "2.7.13"
  }
 },
 "nbformat": 4,
 "nbformat_minor": 1
}
